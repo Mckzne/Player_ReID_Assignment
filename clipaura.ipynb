{
 "cells": [
  {
   "cell_type": "markdown",
   "id": "d3ebc23d",
   "metadata": {
    "_cell_guid": "b1076dfc-b9ad-4769-8c92-a6c4dae69d19",
    "_uuid": "8f2839f25d086af736a60e9eeb907d3b93b6e0e5",
    "execution": {
     "iopub.execute_input": "2025-06-30T18:43:37.198417Z",
     "iopub.status.busy": "2025-06-30T18:43:37.198148Z",
     "iopub.status.idle": "2025-06-30T18:43:37.545344Z",
     "shell.execute_reply": "2025-06-30T18:43:37.544768Z",
     "shell.execute_reply.started": "2025-06-30T18:43:37.198395Z"
    },
    "papermill": {
     "duration": 0.004428,
     "end_time": "2025-07-01T14:52:46.421909",
     "exception": false,
     "start_time": "2025-07-01T14:52:46.417481",
     "status": "completed"
    },
    "tags": []
   },
   "source": [
    "# Submission for Option 2: CLIP-AURA Soccer Player Tracker\n",
    "## Author: Mihika Usgaonker\n",
    "## Model Stack: YOLOv11 + CLIP ReID-B/16 + AURA"
   ]
  },
  {
   "cell_type": "code",
   "execution_count": 1,
   "id": "f48ace2e",
   "metadata": {
    "execution": {
     "iopub.execute_input": "2025-07-01T14:52:46.429989Z",
     "iopub.status.busy": "2025-07-01T14:52:46.429697Z",
     "iopub.status.idle": "2025-07-01T14:52:47.961091Z",
     "shell.execute_reply": "2025-07-01T14:52:47.960194Z"
    },
    "papermill": {
     "duration": 1.536964,
     "end_time": "2025-07-01T14:52:47.962431",
     "exception": false,
     "start_time": "2025-07-01T14:52:46.425467",
     "status": "completed"
    },
    "tags": []
   },
   "outputs": [
    {
     "name": "stdout",
     "output_type": "stream",
     "text": [
      "/kaggle/input/yolo_best/pytorch/default/1/best.pt\n",
      "/kaggle/input/clip-reid-repo/clip_reid-master/train.py\n",
      "/kaggle/input/clip-reid-repo/clip_reid-master/evaluate.py\n",
      "/kaggle/input/clip-reid-repo/clip_reid-master/LICENSE\n",
      "/kaggle/input/clip-reid-repo/clip_reid-master/.gitignore\n",
      "/kaggle/input/clip-reid-repo/clip_reid-master/README.md\n",
      "/kaggle/input/clip-reid-repo/clip_reid-master/requirements.txt\n",
      "/kaggle/input/clip-reid-repo/clip_reid-master/download_data.py\n",
      "/kaggle/input/clip-reid-repo/clip_reid-master/preprocess_data.py\n",
      "/kaggle/input/clip-reid-repo/clip_reid-master/predict.py\n",
      "/kaggle/input/clip-reid-repo/clip_reid-master/docs/CLIP-ReIdent.png\n",
      "/kaggle/input/clip-reid-repo/clip_reid-master/docs/CLIP-ReIdent_Technical_Report.pdf\n",
      "/kaggle/input/clip-reid-repo/clip_reid-master/clipreid/trainer.py\n",
      "/kaggle/input/clip-reid-repo/clip_reid-master/clipreid/transforms.py\n",
      "/kaggle/input/clip-reid-repo/clip_reid-master/clipreid/metrics.py\n",
      "/kaggle/input/clip-reid-repo/clip_reid-master/clipreid/model.py\n",
      "/kaggle/input/clip-reid-repo/clip_reid-master/clipreid/rerank.py\n",
      "/kaggle/input/clip-reid-repo/clip_reid-master/clipreid/loss.py\n",
      "/kaggle/input/clip-reid-repo/clip_reid-master/clipreid/utils.py\n",
      "/kaggle/input/clip-reid-repo/clip_reid-master/clipreid/evaluator.py\n",
      "/kaggle/input/clip-reid-repo/clip_reid-master/clipreid/dataset.py\n",
      "/kaggle/input/15-sec-input/15sec_input_720p.mp4\n",
      "/kaggle/input/clip-reid-b16-checkpoints/weights_e8.pth\n"
     ]
    }
   ],
   "source": [
    "# This Python 3 environment comes with many helpful analytics libraries installed\n",
    "# It is defined by the kaggle/python Docker image: https://github.com/kaggle/docker-python\n",
    "# For example, here's several helpful packages to load\n",
    "\n",
    "import numpy as np # linear algebra\n",
    "import pandas as pd # data processing, CSV file I/O (e.g. pd.read_csv)\n",
    "\n",
    "# Input data files are available in the read-only \"../input/\" directory\n",
    "# For example, running this (by clicking run or pressing Shift+Enter) will list all files under the input directory\n",
    "\n",
    "import os\n",
    "for dirname, _, filenames in os.walk('/kaggle/input'):\n",
    "    for filename in filenames:\n",
    "        print(os.path.join(dirname, filename))\n",
    "\n",
    "# You can write up to 20GB to the current directory (/kaggle/working/) that gets preserved as output when you create a version using \"Save & Run All\" \n",
    "# You can also write temporary files to /kaggle/temp/, but they won't be saved outside of the current session"
   ]
  },
  {
   "cell_type": "markdown",
   "id": "2dfc77ea",
   "metadata": {
    "papermill": {
     "duration": 0.003473,
     "end_time": "2025-07-01T14:52:47.969869",
     "exception": false,
     "start_time": "2025-07-01T14:52:47.966396",
     "status": "completed"
    },
    "tags": []
   },
   "source": [
    "## Setup and Imports"
   ]
  },
  {
   "cell_type": "code",
   "execution_count": 2,
   "id": "e801fb27",
   "metadata": {
    "execution": {
     "iopub.execute_input": "2025-07-01T14:52:47.977802Z",
     "iopub.status.busy": "2025-07-01T14:52:47.977470Z",
     "iopub.status.idle": "2025-07-01T14:54:01.331750Z",
     "shell.execute_reply": "2025-07-01T14:54:01.330629Z"
    },
    "papermill": {
     "duration": 73.360445,
     "end_time": "2025-07-01T14:54:01.333815",
     "exception": false,
     "start_time": "2025-07-01T14:52:47.973370",
     "status": "completed"
    },
    "tags": []
   },
   "outputs": [
    {
     "name": "stdout",
     "output_type": "stream",
     "text": [
      "\u001b[2K   \u001b[90m━━━━━━━━━━━━━━━━━━━━━━━━━━━━━━━━━━━━━━━━\u001b[0m \u001b[32m1.0/1.0 MB\u001b[0m \u001b[31m27.7 MB/s\u001b[0m eta \u001b[36m0:00:00\u001b[0m\r\n",
      "\u001b[2K   \u001b[90m━━━━━━━━━━━━━━━━━━━━━━━━━━━━━━━━━━━━━━━━\u001b[0m \u001b[32m1.5/1.5 MB\u001b[0m \u001b[31m52.3 MB/s\u001b[0m eta \u001b[36m0:00:00\u001b[0m\r\n",
      "\u001b[2K   \u001b[90m━━━━━━━━━━━━━━━━━━━━━━━━━━━━━━━━━━━━━━━━\u001b[0m \u001b[32m363.4/363.4 MB\u001b[0m \u001b[31m4.2 MB/s\u001b[0m eta \u001b[36m0:00:00\u001b[0m\r\n",
      "\u001b[2K   \u001b[90m━━━━━━━━━━━━━━━━━━━━━━━━━━━━━━━━━━━━━━━━\u001b[0m \u001b[32m664.8/664.8 MB\u001b[0m \u001b[31m2.5 MB/s\u001b[0m eta \u001b[36m0:00:00\u001b[0m\r\n",
      "\u001b[2K   \u001b[90m━━━━━━━━━━━━━━━━━━━━━━━━━━━━━━━━━━━━━━━━\u001b[0m \u001b[32m211.5/211.5 MB\u001b[0m \u001b[31m6.4 MB/s\u001b[0m eta \u001b[36m0:00:00\u001b[0m\r\n",
      "\u001b[2K   \u001b[90m━━━━━━━━━━━━━━━━━━━━━━━━━━━━━━━━━━━━━━━━\u001b[0m \u001b[32m56.3/56.3 MB\u001b[0m \u001b[31m31.1 MB/s\u001b[0m eta \u001b[36m0:00:00\u001b[0m\r\n",
      "\u001b[2K   \u001b[90m━━━━━━━━━━━━━━━━━━━━━━━━━━━━━━━━━━━━━━━━\u001b[0m \u001b[32m127.9/127.9 MB\u001b[0m \u001b[31m13.3 MB/s\u001b[0m eta \u001b[36m0:00:00\u001b[0m\r\n",
      "\u001b[2K   \u001b[90m━━━━━━━━━━━━━━━━━━━━━━━━━━━━━━━━━━━━━━━━\u001b[0m \u001b[32m207.5/207.5 MB\u001b[0m \u001b[31m2.1 MB/s\u001b[0m eta \u001b[36m0:00:00\u001b[0m\r\n",
      "\u001b[2K   \u001b[90m━━━━━━━━━━━━━━━━━━━━━━━━━━━━━━━━━━━━━━━━\u001b[0m \u001b[32m21.1/21.1 MB\u001b[0m \u001b[31m81.2 MB/s\u001b[0m eta \u001b[36m0:00:00\u001b[0m\r\n",
      "\u001b[2K   \u001b[90m━━━━━━━━━━━━━━━━━━━━━━━━━━━━━━━━━━━━━━━━\u001b[0m \u001b[32m44.8/44.8 kB\u001b[0m \u001b[31m3.0 MB/s\u001b[0m eta \u001b[36m0:00:00\u001b[0m\r\n",
      "\u001b[?25h"
     ]
    }
   ],
   "source": [
    "!pip install -q -U ultralytics open_clip_torch"
   ]
  },
  {
   "cell_type": "code",
   "execution_count": 3,
   "id": "fef141a5",
   "metadata": {
    "execution": {
     "iopub.execute_input": "2025-07-01T14:54:01.405137Z",
     "iopub.status.busy": "2025-07-01T14:54:01.404100Z",
     "iopub.status.idle": "2025-07-01T14:54:19.799447Z",
     "shell.execute_reply": "2025-07-01T14:54:19.798458Z"
    },
    "papermill": {
     "duration": 18.431378,
     "end_time": "2025-07-01T14:54:19.800793",
     "exception": false,
     "start_time": "2025-07-01T14:54:01.369415",
     "status": "completed"
    },
    "tags": []
   },
   "outputs": [
    {
     "name": "stdout",
     "output_type": "stream",
     "text": [
      "Creating new Ultralytics Settings v0.0.6 file ✅ \n",
      "View Ultralytics Settings with 'yolo settings' or at '/root/.config/Ultralytics/settings.json'\n",
      "Update Settings with 'yolo settings key=value', i.e. 'yolo settings runs_dir=path/to/dir'. For help see https://docs.ultralytics.com/quickstart/#ultralytics-settings.\n"
     ]
    },
    {
     "name": "stderr",
     "output_type": "stream",
     "text": [
      "/usr/local/lib/python3.11/dist-packages/albumentations/__init__.py:28: UserWarning: A new version of Albumentations is available: '2.0.8' (you have '2.0.5'). Upgrade using: pip install -U albumentations. To disable automatic update checks, set the environment variable NO_ALBUMENTATIONS_UPDATE to 1.\n",
      "  check_for_updates()\n"
     ]
    }
   ],
   "source": [
    "import os\n",
    "import cv2\n",
    "import numpy as np\n",
    "import torch\n",
    "import matplotlib.pyplot as plt\n",
    "from ultralytics import YOLO\n",
    "from sklearn.cluster import KMeans\n",
    "from sklearn.decomposition import PCA\n",
    "from sklearn.metrics.pairwise import cosine_similarity\n",
    "from tqdm import tqdm\n",
    "import sys\n",
    "sys.path.append(\"/kaggle/input/clip-reid-repo/clip_reid-master\")\n",
    "from clipreid.model import OpenClipModel\n",
    "from clipreid.transforms import get_transforms"
   ]
  },
  {
   "cell_type": "markdown",
   "id": "bbebfc11",
   "metadata": {
    "papermill": {
     "duration": 0.021498,
     "end_time": "2025-07-01T14:54:19.844543",
     "exception": false,
     "start_time": "2025-07-01T14:54:19.823045",
     "status": "completed"
    },
    "tags": []
   },
   "source": [
    "## Model and Video Setup\n"
   ]
  },
  {
   "cell_type": "code",
   "execution_count": 4,
   "id": "1baabdb8",
   "metadata": {
    "execution": {
     "iopub.execute_input": "2025-07-01T14:54:19.889611Z",
     "iopub.status.busy": "2025-07-01T14:54:19.888833Z",
     "iopub.status.idle": "2025-07-01T14:54:19.892872Z",
     "shell.execute_reply": "2025-07-01T14:54:19.892277Z"
    },
    "papermill": {
     "duration": 0.0279,
     "end_time": "2025-07-01T14:54:19.893920",
     "exception": false,
     "start_time": "2025-07-01T14:54:19.866020",
     "status": "completed"
    },
    "tags": []
   },
   "outputs": [],
   "source": [
    "yolo_path = '/kaggle/input/yolo_best/pytorch/default/1/best.pt'\n",
    "video_path = '/kaggle/input/15-sec-input/15sec_input_720p.mp4'\n",
    "clip_weights = \"/kaggle/input/clip-reid-b16-checkpoints/weights_e8.pth\"\n",
    "device = 'cuda' if torch.cuda.is_available() else 'cpu'"
   ]
  },
  {
   "cell_type": "code",
   "execution_count": 5,
   "id": "abb63192",
   "metadata": {
    "execution": {
     "iopub.execute_input": "2025-07-01T14:54:19.940374Z",
     "iopub.status.busy": "2025-07-01T14:54:19.939738Z",
     "iopub.status.idle": "2025-07-01T14:54:30.613073Z",
     "shell.execute_reply": "2025-07-01T14:54:30.612481Z"
    },
    "papermill": {
     "duration": 10.698146,
     "end_time": "2025-07-01T14:54:30.614478",
     "exception": false,
     "start_time": "2025-07-01T14:54:19.916332",
     "status": "completed"
    },
    "tags": []
   },
   "outputs": [
    {
     "data": {
      "application/vnd.jupyter.widget-view+json": {
       "model_id": "e7a02bc65cca452480717ea5596880bb",
       "version_major": 2,
       "version_minor": 0
      },
      "text/plain": [
       "open_clip_model.safetensors:   0%|          | 0.00/599M [00:00<?, ?B/s]"
      ]
     },
     "metadata": {},
     "output_type": "display_data"
    },
    {
     "name": "stderr",
     "output_type": "stream",
     "text": [
      "/usr/local/lib/python3.11/dist-packages/open_clip/factory.py:388: UserWarning: These pretrained weights were trained with QuickGELU activation but the model config does not have that enabled. Consider using a model config with a \"-quickgelu\" suffix or enable with a flag.\n",
      "  warnings.warn(\n"
     ]
    },
    {
     "name": "stdout",
     "output_type": "stream",
     "text": [
      "Remove Projection Layer - old output size: 512 - new output size: 768\n"
     ]
    }
   ],
   "source": [
    "model_yolo = YOLO(yolo_path)\n",
    "model_clip = OpenClipModel(model_name=\"ViT-B-16\", pretrained=\"openai\", remove_proj=True)\n",
    "state_dict = torch.load(clip_weights, map_location=device)\n",
    "if 'model' in state_dict:\n",
    "    state_dict = state_dict['model']\n",
    "model_clip.load_state_dict(state_dict, strict=True)\n",
    "model_clip.eval().to(device)\n",
    "val_transforms, _ = get_transforms((224, 224))"
   ]
  },
  {
   "cell_type": "markdown",
   "id": "4520ba62",
   "metadata": {
    "papermill": {
     "duration": 0.02162,
     "end_time": "2025-07-01T14:54:30.658646",
     "exception": false,
     "start_time": "2025-07-01T14:54:30.637026",
     "status": "completed"
    },
    "tags": []
   },
   "source": [
    "## Video Loading and Frame Extraction"
   ]
  },
  {
   "cell_type": "code",
   "execution_count": 6,
   "id": "efb7326d",
   "metadata": {
    "execution": {
     "iopub.execute_input": "2025-07-01T14:54:30.702782Z",
     "iopub.status.busy": "2025-07-01T14:54:30.702483Z",
     "iopub.status.idle": "2025-07-01T14:54:31.902478Z",
     "shell.execute_reply": "2025-07-01T14:54:31.901338Z"
    },
    "papermill": {
     "duration": 1.223764,
     "end_time": "2025-07-01T14:54:31.903879",
     "exception": false,
     "start_time": "2025-07-01T14:54:30.680115",
     "status": "completed"
    },
    "tags": []
   },
   "outputs": [
    {
     "name": "stdout",
     "output_type": "stream",
     "text": [
      "[INFO] Loaded 375 frames\n"
     ]
    }
   ],
   "source": [
    "def load_video_frames(video_path):\n",
    "    cap = cv2.VideoCapture(video_path)\n",
    "    fps = cap.get(cv2.CAP_PROP_FPS)\n",
    "    width = int(cap.get(cv2.CAP_PROP_FRAME_WIDTH))\n",
    "    height = int(cap.get(cv2.CAP_PROP_FRAME_HEIGHT))\n",
    "    frames = []\n",
    "    while True:\n",
    "        ret, frame = cap.read()\n",
    "        if not ret:\n",
    "            break\n",
    "        frames.append(frame)\n",
    "    cap.release()\n",
    "    return frames, fps, width, height\n",
    "\n",
    "frames, fps, width, height = load_video_frames(video_path)\n",
    "print(f\"[INFO] Loaded {len(frames)} frames\")"
   ]
  },
  {
   "cell_type": "markdown",
   "id": "ddcfb266",
   "metadata": {
    "papermill": {
     "duration": 0.083821,
     "end_time": "2025-07-01T14:54:32.011742",
     "exception": false,
     "start_time": "2025-07-01T14:54:31.927921",
     "status": "completed"
    },
    "tags": []
   },
   "source": [
    "## YOLOv11 Detection"
   ]
  },
  {
   "cell_type": "code",
   "execution_count": 7,
   "id": "5ce372a8",
   "metadata": {
    "execution": {
     "iopub.execute_input": "2025-07-01T14:54:32.061022Z",
     "iopub.status.busy": "2025-07-01T14:54:32.060732Z",
     "iopub.status.idle": "2025-07-01T14:54:48.018813Z",
     "shell.execute_reply": "2025-07-01T14:54:48.018220Z"
    },
    "papermill": {
     "duration": 15.986117,
     "end_time": "2025-07-01T14:54:48.020194",
     "exception": false,
     "start_time": "2025-07-01T14:54:32.034077",
     "status": "completed"
    },
    "tags": []
   },
   "outputs": [
    {
     "name": "stdout",
     "output_type": "stream",
     "text": [
      "\n",
      "WARNING ⚠️ \n",
      "inference results will accumulate in RAM unless `stream=True` is passed, causing potential out-of-memory\n",
      "errors for large sources or long-running streams and videos. See https://docs.ultralytics.com/modes/predict/ for help.\n",
      "\n",
      "Example:\n",
      "    results = model(source=..., stream=True)  # generator of Results objects\n",
      "    for r in results:\n",
      "        boxes = r.boxes  # Boxes object for bbox outputs\n",
      "        masks = r.masks  # Masks object for segment masks outputs\n",
      "        probs = r.probs  # Class probabilities for classification outputs\n",
      "\n",
      "video 1/1 (frame 1/375) /kaggle/input/15-sec-input/15sec_input_720p.mp4: 384x640 16 players, 82.6ms\n",
      "video 1/1 (frame 2/375) /kaggle/input/15-sec-input/15sec_input_720p.mp4: 384x640 18 players, 31.9ms\n",
      "video 1/1 (frame 3/375) /kaggle/input/15-sec-input/15sec_input_720p.mp4: 384x640 16 players, 31.8ms\n",
      "video 1/1 (frame 4/375) /kaggle/input/15-sec-input/15sec_input_720p.mp4: 384x640 14 players, 31.7ms\n",
      "video 1/1 (frame 5/375) /kaggle/input/15-sec-input/15sec_input_720p.mp4: 384x640 14 players, 31.3ms\n",
      "video 1/1 (frame 6/375) /kaggle/input/15-sec-input/15sec_input_720p.mp4: 384x640 16 players, 29.3ms\n",
      "video 1/1 (frame 7/375) /kaggle/input/15-sec-input/15sec_input_720p.mp4: 384x640 15 players, 29.3ms\n",
      "video 1/1 (frame 8/375) /kaggle/input/15-sec-input/15sec_input_720p.mp4: 384x640 15 players, 29.2ms\n",
      "video 1/1 (frame 9/375) /kaggle/input/15-sec-input/15sec_input_720p.mp4: 384x640 16 players, 29.1ms\n",
      "video 1/1 (frame 10/375) /kaggle/input/15-sec-input/15sec_input_720p.mp4: 384x640 15 players, 29.2ms\n",
      "video 1/1 (frame 11/375) /kaggle/input/15-sec-input/15sec_input_720p.mp4: 384x640 15 players, 29.3ms\n",
      "video 1/1 (frame 12/375) /kaggle/input/15-sec-input/15sec_input_720p.mp4: 384x640 15 players, 29.2ms\n",
      "video 1/1 (frame 13/375) /kaggle/input/15-sec-input/15sec_input_720p.mp4: 384x640 13 players, 29.1ms\n",
      "video 1/1 (frame 14/375) /kaggle/input/15-sec-input/15sec_input_720p.mp4: 384x640 14 players, 29.0ms\n",
      "video 1/1 (frame 15/375) /kaggle/input/15-sec-input/15sec_input_720p.mp4: 384x640 14 players, 29.1ms\n",
      "video 1/1 (frame 16/375) /kaggle/input/15-sec-input/15sec_input_720p.mp4: 384x640 19 players, 29.1ms\n",
      "video 1/1 (frame 17/375) /kaggle/input/15-sec-input/15sec_input_720p.mp4: 384x640 14 players, 29.1ms\n",
      "video 1/1 (frame 18/375) /kaggle/input/15-sec-input/15sec_input_720p.mp4: 384x640 15 players, 29.0ms\n",
      "video 1/1 (frame 19/375) /kaggle/input/15-sec-input/15sec_input_720p.mp4: 384x640 15 players, 29.1ms\n",
      "video 1/1 (frame 20/375) /kaggle/input/15-sec-input/15sec_input_720p.mp4: 384x640 15 players, 29.0ms\n",
      "video 1/1 (frame 21/375) /kaggle/input/15-sec-input/15sec_input_720p.mp4: 384x640 14 players, 29.1ms\n",
      "video 1/1 (frame 22/375) /kaggle/input/15-sec-input/15sec_input_720p.mp4: 384x640 14 players, 29.0ms\n",
      "video 1/1 (frame 23/375) /kaggle/input/15-sec-input/15sec_input_720p.mp4: 384x640 14 players, 29.1ms\n",
      "video 1/1 (frame 24/375) /kaggle/input/15-sec-input/15sec_input_720p.mp4: 384x640 14 players, 29.0ms\n",
      "video 1/1 (frame 25/375) /kaggle/input/15-sec-input/15sec_input_720p.mp4: 384x640 14 players, 29.0ms\n",
      "video 1/1 (frame 26/375) /kaggle/input/15-sec-input/15sec_input_720p.mp4: 384x640 14 players, 29.2ms\n",
      "video 1/1 (frame 27/375) /kaggle/input/15-sec-input/15sec_input_720p.mp4: 384x640 14 players, 29.0ms\n",
      "video 1/1 (frame 28/375) /kaggle/input/15-sec-input/15sec_input_720p.mp4: 384x640 13 players, 29.1ms\n",
      "video 1/1 (frame 29/375) /kaggle/input/15-sec-input/15sec_input_720p.mp4: 384x640 13 players, 29.1ms\n",
      "video 1/1 (frame 30/375) /kaggle/input/15-sec-input/15sec_input_720p.mp4: 384x640 16 players, 29.2ms\n",
      "video 1/1 (frame 31/375) /kaggle/input/15-sec-input/15sec_input_720p.mp4: 384x640 15 players, 29.2ms\n",
      "video 1/1 (frame 32/375) /kaggle/input/15-sec-input/15sec_input_720p.mp4: 384x640 14 players, 29.1ms\n",
      "video 1/1 (frame 33/375) /kaggle/input/15-sec-input/15sec_input_720p.mp4: 384x640 14 players, 29.0ms\n",
      "video 1/1 (frame 34/375) /kaggle/input/15-sec-input/15sec_input_720p.mp4: 384x640 15 players, 29.1ms\n",
      "video 1/1 (frame 35/375) /kaggle/input/15-sec-input/15sec_input_720p.mp4: 384x640 14 players, 29.1ms\n",
      "video 1/1 (frame 36/375) /kaggle/input/15-sec-input/15sec_input_720p.mp4: 384x640 13 players, 28.9ms\n",
      "video 1/1 (frame 37/375) /kaggle/input/15-sec-input/15sec_input_720p.mp4: 384x640 15 players, 29.1ms\n",
      "video 1/1 (frame 38/375) /kaggle/input/15-sec-input/15sec_input_720p.mp4: 384x640 16 players, 29.0ms\n",
      "video 1/1 (frame 39/375) /kaggle/input/15-sec-input/15sec_input_720p.mp4: 384x640 16 players, 28.9ms\n",
      "video 1/1 (frame 40/375) /kaggle/input/15-sec-input/15sec_input_720p.mp4: 384x640 18 players, 29.1ms\n",
      "video 1/1 (frame 41/375) /kaggle/input/15-sec-input/15sec_input_720p.mp4: 384x640 17 players, 29.0ms\n",
      "video 1/1 (frame 42/375) /kaggle/input/15-sec-input/15sec_input_720p.mp4: 384x640 16 players, 29.0ms\n",
      "video 1/1 (frame 43/375) /kaggle/input/15-sec-input/15sec_input_720p.mp4: 384x640 14 players, 29.1ms\n",
      "video 1/1 (frame 44/375) /kaggle/input/15-sec-input/15sec_input_720p.mp4: 384x640 17 players, 29.0ms\n",
      "video 1/1 (frame 45/375) /kaggle/input/15-sec-input/15sec_input_720p.mp4: 384x640 18 players, 29.1ms\n",
      "video 1/1 (frame 46/375) /kaggle/input/15-sec-input/15sec_input_720p.mp4: 384x640 17 players, 29.1ms\n",
      "video 1/1 (frame 47/375) /kaggle/input/15-sec-input/15sec_input_720p.mp4: 384x640 16 players, 29.1ms\n",
      "video 1/1 (frame 48/375) /kaggle/input/15-sec-input/15sec_input_720p.mp4: 384x640 17 players, 29.0ms\n",
      "video 1/1 (frame 49/375) /kaggle/input/15-sec-input/15sec_input_720p.mp4: 384x640 16 players, 29.0ms\n",
      "video 1/1 (frame 50/375) /kaggle/input/15-sec-input/15sec_input_720p.mp4: 384x640 16 players, 29.0ms\n",
      "video 1/1 (frame 51/375) /kaggle/input/15-sec-input/15sec_input_720p.mp4: 384x640 16 players, 29.1ms\n",
      "video 1/1 (frame 52/375) /kaggle/input/15-sec-input/15sec_input_720p.mp4: 384x640 17 players, 29.0ms\n",
      "video 1/1 (frame 53/375) /kaggle/input/15-sec-input/15sec_input_720p.mp4: 384x640 14 players, 29.0ms\n",
      "video 1/1 (frame 54/375) /kaggle/input/15-sec-input/15sec_input_720p.mp4: 384x640 16 players, 29.0ms\n",
      "video 1/1 (frame 55/375) /kaggle/input/15-sec-input/15sec_input_720p.mp4: 384x640 14 players, 29.1ms\n",
      "video 1/1 (frame 56/375) /kaggle/input/15-sec-input/15sec_input_720p.mp4: 384x640 17 players, 29.0ms\n",
      "video 1/1 (frame 57/375) /kaggle/input/15-sec-input/15sec_input_720p.mp4: 384x640 13 players, 29.0ms\n",
      "video 1/1 (frame 58/375) /kaggle/input/15-sec-input/15sec_input_720p.mp4: 384x640 13 players, 29.0ms\n",
      "video 1/1 (frame 59/375) /kaggle/input/15-sec-input/15sec_input_720p.mp4: 384x640 15 players, 29.0ms\n",
      "video 1/1 (frame 60/375) /kaggle/input/15-sec-input/15sec_input_720p.mp4: 384x640 15 players, 29.0ms\n",
      "video 1/1 (frame 61/375) /kaggle/input/15-sec-input/15sec_input_720p.mp4: 384x640 14 players, 29.0ms\n",
      "video 1/1 (frame 62/375) /kaggle/input/15-sec-input/15sec_input_720p.mp4: 384x640 15 players, 29.0ms\n",
      "video 1/1 (frame 63/375) /kaggle/input/15-sec-input/15sec_input_720p.mp4: 384x640 15 players, 29.0ms\n",
      "video 1/1 (frame 64/375) /kaggle/input/15-sec-input/15sec_input_720p.mp4: 384x640 14 players, 29.0ms\n",
      "video 1/1 (frame 65/375) /kaggle/input/15-sec-input/15sec_input_720p.mp4: 384x640 14 players, 29.1ms\n",
      "video 1/1 (frame 66/375) /kaggle/input/15-sec-input/15sec_input_720p.mp4: 384x640 16 players, 29.1ms\n",
      "video 1/1 (frame 67/375) /kaggle/input/15-sec-input/15sec_input_720p.mp4: 384x640 14 players, 29.0ms\n",
      "video 1/1 (frame 68/375) /kaggle/input/15-sec-input/15sec_input_720p.mp4: 384x640 14 players, 29.1ms\n",
      "video 1/1 (frame 69/375) /kaggle/input/15-sec-input/15sec_input_720p.mp4: 384x640 14 players, 29.1ms\n",
      "video 1/1 (frame 70/375) /kaggle/input/15-sec-input/15sec_input_720p.mp4: 384x640 15 players, 29.0ms\n",
      "video 1/1 (frame 71/375) /kaggle/input/15-sec-input/15sec_input_720p.mp4: 384x640 14 players, 29.1ms\n",
      "video 1/1 (frame 72/375) /kaggle/input/15-sec-input/15sec_input_720p.mp4: 384x640 14 players, 29.0ms\n",
      "video 1/1 (frame 73/375) /kaggle/input/15-sec-input/15sec_input_720p.mp4: 384x640 15 players, 29.1ms\n",
      "video 1/1 (frame 74/375) /kaggle/input/15-sec-input/15sec_input_720p.mp4: 384x640 16 players, 29.1ms\n",
      "video 1/1 (frame 75/375) /kaggle/input/15-sec-input/15sec_input_720p.mp4: 384x640 15 players, 29.1ms\n",
      "video 1/1 (frame 76/375) /kaggle/input/15-sec-input/15sec_input_720p.mp4: 384x640 15 players, 29.1ms\n",
      "video 1/1 (frame 77/375) /kaggle/input/15-sec-input/15sec_input_720p.mp4: 384x640 15 players, 29.1ms\n",
      "video 1/1 (frame 78/375) /kaggle/input/15-sec-input/15sec_input_720p.mp4: 384x640 17 players, 29.0ms\n",
      "video 1/1 (frame 79/375) /kaggle/input/15-sec-input/15sec_input_720p.mp4: 384x640 17 players, 29.1ms\n",
      "video 1/1 (frame 80/375) /kaggle/input/15-sec-input/15sec_input_720p.mp4: 384x640 17 players, 28.9ms\n",
      "video 1/1 (frame 81/375) /kaggle/input/15-sec-input/15sec_input_720p.mp4: 384x640 14 players, 29.1ms\n",
      "video 1/1 (frame 82/375) /kaggle/input/15-sec-input/15sec_input_720p.mp4: 384x640 15 players, 29.1ms\n",
      "video 1/1 (frame 83/375) /kaggle/input/15-sec-input/15sec_input_720p.mp4: 384x640 14 players, 29.1ms\n",
      "video 1/1 (frame 84/375) /kaggle/input/15-sec-input/15sec_input_720p.mp4: 384x640 14 players, 29.0ms\n",
      "video 1/1 (frame 85/375) /kaggle/input/15-sec-input/15sec_input_720p.mp4: 384x640 14 players, 29.1ms\n",
      "video 1/1 (frame 86/375) /kaggle/input/15-sec-input/15sec_input_720p.mp4: 384x640 14 players, 29.1ms\n",
      "video 1/1 (frame 87/375) /kaggle/input/15-sec-input/15sec_input_720p.mp4: 384x640 14 players, 29.0ms\n",
      "video 1/1 (frame 88/375) /kaggle/input/15-sec-input/15sec_input_720p.mp4: 384x640 15 players, 29.0ms\n",
      "video 1/1 (frame 89/375) /kaggle/input/15-sec-input/15sec_input_720p.mp4: 384x640 17 players, 28.6ms\n",
      "video 1/1 (frame 90/375) /kaggle/input/15-sec-input/15sec_input_720p.mp4: 384x640 16 players, 29.1ms\n",
      "video 1/1 (frame 91/375) /kaggle/input/15-sec-input/15sec_input_720p.mp4: 384x640 16 players, 29.1ms\n",
      "video 1/1 (frame 92/375) /kaggle/input/15-sec-input/15sec_input_720p.mp4: 384x640 18 players, 29.1ms\n",
      "video 1/1 (frame 93/375) /kaggle/input/15-sec-input/15sec_input_720p.mp4: 384x640 17 players, 29.1ms\n",
      "video 1/1 (frame 94/375) /kaggle/input/15-sec-input/15sec_input_720p.mp4: 384x640 18 players, 29.0ms\n",
      "video 1/1 (frame 95/375) /kaggle/input/15-sec-input/15sec_input_720p.mp4: 384x640 18 players, 29.0ms\n",
      "video 1/1 (frame 96/375) /kaggle/input/15-sec-input/15sec_input_720p.mp4: 384x640 16 players, 29.1ms\n",
      "video 1/1 (frame 97/375) /kaggle/input/15-sec-input/15sec_input_720p.mp4: 384x640 16 players, 29.0ms\n",
      "video 1/1 (frame 98/375) /kaggle/input/15-sec-input/15sec_input_720p.mp4: 384x640 18 players, 29.1ms\n",
      "video 1/1 (frame 99/375) /kaggle/input/15-sec-input/15sec_input_720p.mp4: 384x640 19 players, 29.1ms\n",
      "video 1/1 (frame 100/375) /kaggle/input/15-sec-input/15sec_input_720p.mp4: 384x640 16 players, 29.0ms\n",
      "video 1/1 (frame 101/375) /kaggle/input/15-sec-input/15sec_input_720p.mp4: 384x640 17 players, 29.1ms\n",
      "video 1/1 (frame 102/375) /kaggle/input/15-sec-input/15sec_input_720p.mp4: 384x640 17 players, 29.0ms\n",
      "video 1/1 (frame 103/375) /kaggle/input/15-sec-input/15sec_input_720p.mp4: 384x640 17 players, 29.1ms\n",
      "video 1/1 (frame 104/375) /kaggle/input/15-sec-input/15sec_input_720p.mp4: 384x640 16 players, 29.0ms\n",
      "video 1/1 (frame 105/375) /kaggle/input/15-sec-input/15sec_input_720p.mp4: 384x640 17 players, 29.0ms\n",
      "video 1/1 (frame 106/375) /kaggle/input/15-sec-input/15sec_input_720p.mp4: 384x640 17 players, 29.0ms\n",
      "video 1/1 (frame 107/375) /kaggle/input/15-sec-input/15sec_input_720p.mp4: 384x640 19 players, 29.0ms\n",
      "video 1/1 (frame 108/375) /kaggle/input/15-sec-input/15sec_input_720p.mp4: 384x640 15 players, 29.0ms\n",
      "video 1/1 (frame 109/375) /kaggle/input/15-sec-input/15sec_input_720p.mp4: 384x640 16 players, 29.0ms\n",
      "video 1/1 (frame 110/375) /kaggle/input/15-sec-input/15sec_input_720p.mp4: 384x640 16 players, 29.1ms\n",
      "video 1/1 (frame 111/375) /kaggle/input/15-sec-input/15sec_input_720p.mp4: 384x640 17 players, 29.1ms\n",
      "video 1/1 (frame 112/375) /kaggle/input/15-sec-input/15sec_input_720p.mp4: 384x640 17 players, 29.1ms\n",
      "video 1/1 (frame 113/375) /kaggle/input/15-sec-input/15sec_input_720p.mp4: 384x640 19 players, 29.1ms\n",
      "video 1/1 (frame 114/375) /kaggle/input/15-sec-input/15sec_input_720p.mp4: 384x640 15 players, 29.1ms\n",
      "video 1/1 (frame 115/375) /kaggle/input/15-sec-input/15sec_input_720p.mp4: 384x640 16 players, 29.0ms\n",
      "video 1/1 (frame 116/375) /kaggle/input/15-sec-input/15sec_input_720p.mp4: 384x640 15 players, 29.1ms\n",
      "video 1/1 (frame 117/375) /kaggle/input/15-sec-input/15sec_input_720p.mp4: 384x640 16 players, 29.1ms\n",
      "video 1/1 (frame 118/375) /kaggle/input/15-sec-input/15sec_input_720p.mp4: 384x640 16 players, 29.1ms\n",
      "video 1/1 (frame 119/375) /kaggle/input/15-sec-input/15sec_input_720p.mp4: 384x640 17 players, 28.9ms\n",
      "video 1/1 (frame 120/375) /kaggle/input/15-sec-input/15sec_input_720p.mp4: 384x640 14 players, 29.0ms\n",
      "video 1/1 (frame 121/375) /kaggle/input/15-sec-input/15sec_input_720p.mp4: 384x640 14 players, 29.1ms\n",
      "video 1/1 (frame 122/375) /kaggle/input/15-sec-input/15sec_input_720p.mp4: 384x640 15 players, 29.8ms\n",
      "video 1/1 (frame 123/375) /kaggle/input/15-sec-input/15sec_input_720p.mp4: 384x640 16 players, 29.1ms\n",
      "video 1/1 (frame 124/375) /kaggle/input/15-sec-input/15sec_input_720p.mp4: 384x640 16 players, 29.0ms\n",
      "video 1/1 (frame 125/375) /kaggle/input/15-sec-input/15sec_input_720p.mp4: 384x640 14 players, 29.1ms\n",
      "video 1/1 (frame 126/375) /kaggle/input/15-sec-input/15sec_input_720p.mp4: 384x640 16 players, 29.0ms\n",
      "video 1/1 (frame 127/375) /kaggle/input/15-sec-input/15sec_input_720p.mp4: 384x640 15 players, 29.1ms\n",
      "video 1/1 (frame 128/375) /kaggle/input/15-sec-input/15sec_input_720p.mp4: 384x640 15 players, 29.0ms\n",
      "video 1/1 (frame 129/375) /kaggle/input/15-sec-input/15sec_input_720p.mp4: 384x640 15 players, 29.0ms\n",
      "video 1/1 (frame 130/375) /kaggle/input/15-sec-input/15sec_input_720p.mp4: 384x640 14 players, 29.1ms\n",
      "video 1/1 (frame 131/375) /kaggle/input/15-sec-input/15sec_input_720p.mp4: 384x640 15 players, 29.0ms\n",
      "video 1/1 (frame 132/375) /kaggle/input/15-sec-input/15sec_input_720p.mp4: 384x640 15 players, 29.0ms\n",
      "video 1/1 (frame 133/375) /kaggle/input/15-sec-input/15sec_input_720p.mp4: 384x640 18 players, 29.1ms\n",
      "video 1/1 (frame 134/375) /kaggle/input/15-sec-input/15sec_input_720p.mp4: 384x640 15 players, 29.1ms\n",
      "video 1/1 (frame 135/375) /kaggle/input/15-sec-input/15sec_input_720p.mp4: 384x640 16 players, 29.1ms\n",
      "video 1/1 (frame 136/375) /kaggle/input/15-sec-input/15sec_input_720p.mp4: 384x640 15 players, 29.0ms\n",
      "video 1/1 (frame 137/375) /kaggle/input/15-sec-input/15sec_input_720p.mp4: 384x640 16 players, 29.0ms\n",
      "video 1/1 (frame 138/375) /kaggle/input/15-sec-input/15sec_input_720p.mp4: 384x640 14 players, 29.0ms\n",
      "video 1/1 (frame 139/375) /kaggle/input/15-sec-input/15sec_input_720p.mp4: 384x640 18 players, 29.0ms\n",
      "video 1/1 (frame 140/375) /kaggle/input/15-sec-input/15sec_input_720p.mp4: 384x640 14 players, 29.0ms\n",
      "video 1/1 (frame 141/375) /kaggle/input/15-sec-input/15sec_input_720p.mp4: 384x640 16 players, 29.2ms\n",
      "video 1/1 (frame 142/375) /kaggle/input/15-sec-input/15sec_input_720p.mp4: 384x640 16 players, 29.0ms\n",
      "video 1/1 (frame 143/375) /kaggle/input/15-sec-input/15sec_input_720p.mp4: 384x640 15 players, 29.0ms\n",
      "video 1/1 (frame 144/375) /kaggle/input/15-sec-input/15sec_input_720p.mp4: 384x640 15 players, 29.1ms\n",
      "video 1/1 (frame 145/375) /kaggle/input/15-sec-input/15sec_input_720p.mp4: 384x640 13 players, 29.1ms\n",
      "video 1/1 (frame 146/375) /kaggle/input/15-sec-input/15sec_input_720p.mp4: 384x640 14 players, 29.0ms\n",
      "video 1/1 (frame 147/375) /kaggle/input/15-sec-input/15sec_input_720p.mp4: 384x640 15 players, 29.1ms\n",
      "video 1/1 (frame 148/375) /kaggle/input/15-sec-input/15sec_input_720p.mp4: 384x640 14 players, 29.1ms\n",
      "video 1/1 (frame 149/375) /kaggle/input/15-sec-input/15sec_input_720p.mp4: 384x640 13 players, 29.1ms\n",
      "video 1/1 (frame 150/375) /kaggle/input/15-sec-input/15sec_input_720p.mp4: 384x640 14 players, 29.1ms\n",
      "video 1/1 (frame 151/375) /kaggle/input/15-sec-input/15sec_input_720p.mp4: 384x640 13 players, 29.0ms\n",
      "video 1/1 (frame 152/375) /kaggle/input/15-sec-input/15sec_input_720p.mp4: 384x640 14 players, 29.0ms\n",
      "video 1/1 (frame 153/375) /kaggle/input/15-sec-input/15sec_input_720p.mp4: 384x640 13 players, 29.1ms\n",
      "video 1/1 (frame 154/375) /kaggle/input/15-sec-input/15sec_input_720p.mp4: 384x640 13 players, 29.0ms\n",
      "video 1/1 (frame 155/375) /kaggle/input/15-sec-input/15sec_input_720p.mp4: 384x640 14 players, 29.1ms\n",
      "video 1/1 (frame 156/375) /kaggle/input/15-sec-input/15sec_input_720p.mp4: 384x640 13 players, 29.1ms\n",
      "video 1/1 (frame 157/375) /kaggle/input/15-sec-input/15sec_input_720p.mp4: 384x640 12 players, 29.1ms\n",
      "video 1/1 (frame 158/375) /kaggle/input/15-sec-input/15sec_input_720p.mp4: 384x640 12 players, 29.1ms\n",
      "video 1/1 (frame 159/375) /kaggle/input/15-sec-input/15sec_input_720p.mp4: 384x640 12 players, 29.0ms\n",
      "video 1/1 (frame 160/375) /kaggle/input/15-sec-input/15sec_input_720p.mp4: 384x640 14 players, 29.1ms\n",
      "video 1/1 (frame 161/375) /kaggle/input/15-sec-input/15sec_input_720p.mp4: 384x640 15 players, 29.0ms\n",
      "video 1/1 (frame 162/375) /kaggle/input/15-sec-input/15sec_input_720p.mp4: 384x640 13 players, 29.1ms\n",
      "video 1/1 (frame 163/375) /kaggle/input/15-sec-input/15sec_input_720p.mp4: 384x640 12 players, 29.0ms\n",
      "video 1/1 (frame 164/375) /kaggle/input/15-sec-input/15sec_input_720p.mp4: 384x640 12 players, 29.0ms\n",
      "video 1/1 (frame 165/375) /kaggle/input/15-sec-input/15sec_input_720p.mp4: 384x640 12 players, 29.1ms\n",
      "video 1/1 (frame 166/375) /kaggle/input/15-sec-input/15sec_input_720p.mp4: 384x640 12 players, 29.0ms\n",
      "video 1/1 (frame 167/375) /kaggle/input/15-sec-input/15sec_input_720p.mp4: 384x640 12 players, 29.1ms\n",
      "video 1/1 (frame 168/375) /kaggle/input/15-sec-input/15sec_input_720p.mp4: 384x640 13 players, 29.1ms\n",
      "video 1/1 (frame 169/375) /kaggle/input/15-sec-input/15sec_input_720p.mp4: 384x640 13 players, 29.0ms\n",
      "video 1/1 (frame 170/375) /kaggle/input/15-sec-input/15sec_input_720p.mp4: 384x640 13 players, 29.0ms\n",
      "video 1/1 (frame 171/375) /kaggle/input/15-sec-input/15sec_input_720p.mp4: 384x640 16 players, 29.1ms\n",
      "video 1/1 (frame 172/375) /kaggle/input/15-sec-input/15sec_input_720p.mp4: 384x640 13 players, 29.0ms\n",
      "video 1/1 (frame 173/375) /kaggle/input/15-sec-input/15sec_input_720p.mp4: 384x640 13 players, 29.0ms\n",
      "video 1/1 (frame 174/375) /kaggle/input/15-sec-input/15sec_input_720p.mp4: 384x640 13 players, 29.0ms\n",
      "video 1/1 (frame 175/375) /kaggle/input/15-sec-input/15sec_input_720p.mp4: 384x640 15 players, 29.0ms\n",
      "video 1/1 (frame 176/375) /kaggle/input/15-sec-input/15sec_input_720p.mp4: 384x640 14 players, 29.0ms\n",
      "video 1/1 (frame 177/375) /kaggle/input/15-sec-input/15sec_input_720p.mp4: 384x640 14 players, 29.1ms\n",
      "video 1/1 (frame 178/375) /kaggle/input/15-sec-input/15sec_input_720p.mp4: 384x640 13 players, 29.0ms\n",
      "video 1/1 (frame 179/375) /kaggle/input/15-sec-input/15sec_input_720p.mp4: 384x640 13 players, 29.0ms\n",
      "video 1/1 (frame 180/375) /kaggle/input/15-sec-input/15sec_input_720p.mp4: 384x640 11 players, 29.0ms\n",
      "video 1/1 (frame 181/375) /kaggle/input/15-sec-input/15sec_input_720p.mp4: 384x640 15 players, 29.0ms\n",
      "video 1/1 (frame 182/375) /kaggle/input/15-sec-input/15sec_input_720p.mp4: 384x640 12 players, 29.1ms\n",
      "video 1/1 (frame 183/375) /kaggle/input/15-sec-input/15sec_input_720p.mp4: 384x640 12 players, 29.0ms\n",
      "video 1/1 (frame 184/375) /kaggle/input/15-sec-input/15sec_input_720p.mp4: 384x640 14 players, 29.0ms\n",
      "video 1/1 (frame 185/375) /kaggle/input/15-sec-input/15sec_input_720p.mp4: 384x640 12 players, 29.1ms\n",
      "video 1/1 (frame 186/375) /kaggle/input/15-sec-input/15sec_input_720p.mp4: 384x640 12 players, 29.1ms\n",
      "video 1/1 (frame 187/375) /kaggle/input/15-sec-input/15sec_input_720p.mp4: 384x640 12 players, 29.1ms\n",
      "video 1/1 (frame 188/375) /kaggle/input/15-sec-input/15sec_input_720p.mp4: 384x640 12 players, 29.1ms\n",
      "video 1/1 (frame 189/375) /kaggle/input/15-sec-input/15sec_input_720p.mp4: 384x640 12 players, 29.1ms\n",
      "video 1/1 (frame 190/375) /kaggle/input/15-sec-input/15sec_input_720p.mp4: 384x640 11 players, 29.1ms\n",
      "video 1/1 (frame 191/375) /kaggle/input/15-sec-input/15sec_input_720p.mp4: 384x640 12 players, 29.1ms\n",
      "video 1/1 (frame 192/375) /kaggle/input/15-sec-input/15sec_input_720p.mp4: 384x640 12 players, 29.0ms\n",
      "video 1/1 (frame 193/375) /kaggle/input/15-sec-input/15sec_input_720p.mp4: 384x640 15 players, 29.1ms\n",
      "video 1/1 (frame 194/375) /kaggle/input/15-sec-input/15sec_input_720p.mp4: 384x640 14 players, 29.0ms\n",
      "video 1/1 (frame 195/375) /kaggle/input/15-sec-input/15sec_input_720p.mp4: 384x640 14 players, 29.1ms\n",
      "video 1/1 (frame 196/375) /kaggle/input/15-sec-input/15sec_input_720p.mp4: 384x640 13 players, 29.1ms\n",
      "video 1/1 (frame 197/375) /kaggle/input/15-sec-input/15sec_input_720p.mp4: 384x640 18 players, 29.0ms\n",
      "video 1/1 (frame 198/375) /kaggle/input/15-sec-input/15sec_input_720p.mp4: 384x640 14 players, 29.1ms\n",
      "video 1/1 (frame 199/375) /kaggle/input/15-sec-input/15sec_input_720p.mp4: 384x640 17 players, 29.1ms\n",
      "video 1/1 (frame 200/375) /kaggle/input/15-sec-input/15sec_input_720p.mp4: 384x640 16 players, 29.0ms\n",
      "video 1/1 (frame 201/375) /kaggle/input/15-sec-input/15sec_input_720p.mp4: 384x640 14 players, 29.1ms\n",
      "video 1/1 (frame 202/375) /kaggle/input/15-sec-input/15sec_input_720p.mp4: 384x640 17 players, 29.1ms\n",
      "video 1/1 (frame 203/375) /kaggle/input/15-sec-input/15sec_input_720p.mp4: 384x640 15 players, 29.0ms\n",
      "video 1/1 (frame 204/375) /kaggle/input/15-sec-input/15sec_input_720p.mp4: 384x640 14 players, 29.0ms\n",
      "video 1/1 (frame 205/375) /kaggle/input/15-sec-input/15sec_input_720p.mp4: 384x640 13 players, 29.0ms\n",
      "video 1/1 (frame 206/375) /kaggle/input/15-sec-input/15sec_input_720p.mp4: 384x640 14 players, 29.1ms\n",
      "video 1/1 (frame 207/375) /kaggle/input/15-sec-input/15sec_input_720p.mp4: 384x640 14 players, 29.1ms\n",
      "video 1/1 (frame 208/375) /kaggle/input/15-sec-input/15sec_input_720p.mp4: 384x640 13 players, 29.1ms\n",
      "video 1/1 (frame 209/375) /kaggle/input/15-sec-input/15sec_input_720p.mp4: 384x640 15 players, 29.0ms\n",
      "video 1/1 (frame 210/375) /kaggle/input/15-sec-input/15sec_input_720p.mp4: 384x640 13 players, 29.1ms\n",
      "video 1/1 (frame 211/375) /kaggle/input/15-sec-input/15sec_input_720p.mp4: 384x640 13 players, 29.1ms\n",
      "video 1/1 (frame 212/375) /kaggle/input/15-sec-input/15sec_input_720p.mp4: 384x640 12 players, 29.1ms\n",
      "video 1/1 (frame 213/375) /kaggle/input/15-sec-input/15sec_input_720p.mp4: 384x640 12 players, 29.1ms\n",
      "video 1/1 (frame 214/375) /kaggle/input/15-sec-input/15sec_input_720p.mp4: 384x640 12 players, 29.0ms\n",
      "video 1/1 (frame 215/375) /kaggle/input/15-sec-input/15sec_input_720p.mp4: 384x640 10 players, 29.0ms\n",
      "video 1/1 (frame 216/375) /kaggle/input/15-sec-input/15sec_input_720p.mp4: 384x640 11 players, 29.0ms\n",
      "video 1/1 (frame 217/375) /kaggle/input/15-sec-input/15sec_input_720p.mp4: 384x640 15 players, 29.1ms\n",
      "video 1/1 (frame 218/375) /kaggle/input/15-sec-input/15sec_input_720p.mp4: 384x640 11 players, 29.0ms\n",
      "video 1/1 (frame 219/375) /kaggle/input/15-sec-input/15sec_input_720p.mp4: 384x640 10 players, 29.0ms\n",
      "video 1/1 (frame 220/375) /kaggle/input/15-sec-input/15sec_input_720p.mp4: 384x640 12 players, 29.0ms\n",
      "video 1/1 (frame 221/375) /kaggle/input/15-sec-input/15sec_input_720p.mp4: 384x640 9 players, 29.1ms\n",
      "video 1/1 (frame 222/375) /kaggle/input/15-sec-input/15sec_input_720p.mp4: 384x640 8 players, 29.0ms\n",
      "video 1/1 (frame 223/375) /kaggle/input/15-sec-input/15sec_input_720p.mp4: 384x640 8 players, 29.1ms\n",
      "video 1/1 (frame 224/375) /kaggle/input/15-sec-input/15sec_input_720p.mp4: 384x640 10 players, 29.0ms\n",
      "video 1/1 (frame 225/375) /kaggle/input/15-sec-input/15sec_input_720p.mp4: 384x640 10 players, 29.1ms\n",
      "video 1/1 (frame 226/375) /kaggle/input/15-sec-input/15sec_input_720p.mp4: 384x640 9 players, 29.1ms\n",
      "video 1/1 (frame 227/375) /kaggle/input/15-sec-input/15sec_input_720p.mp4: 384x640 9 players, 29.0ms\n",
      "video 1/1 (frame 228/375) /kaggle/input/15-sec-input/15sec_input_720p.mp4: 384x640 8 players, 29.1ms\n",
      "video 1/1 (frame 229/375) /kaggle/input/15-sec-input/15sec_input_720p.mp4: 384x640 9 players, 29.1ms\n",
      "video 1/1 (frame 230/375) /kaggle/input/15-sec-input/15sec_input_720p.mp4: 384x640 11 players, 29.0ms\n",
      "video 1/1 (frame 231/375) /kaggle/input/15-sec-input/15sec_input_720p.mp4: 384x640 13 players, 29.1ms\n",
      "video 1/1 (frame 232/375) /kaggle/input/15-sec-input/15sec_input_720p.mp4: 384x640 12 players, 29.0ms\n",
      "video 1/1 (frame 233/375) /kaggle/input/15-sec-input/15sec_input_720p.mp4: 384x640 10 players, 29.1ms\n",
      "video 1/1 (frame 234/375) /kaggle/input/15-sec-input/15sec_input_720p.mp4: 384x640 8 players, 29.1ms\n",
      "video 1/1 (frame 235/375) /kaggle/input/15-sec-input/15sec_input_720p.mp4: 384x640 8 players, 29.1ms\n",
      "video 1/1 (frame 236/375) /kaggle/input/15-sec-input/15sec_input_720p.mp4: 384x640 11 players, 29.0ms\n",
      "video 1/1 (frame 237/375) /kaggle/input/15-sec-input/15sec_input_720p.mp4: 384x640 11 players, 29.1ms\n",
      "video 1/1 (frame 238/375) /kaggle/input/15-sec-input/15sec_input_720p.mp4: 384x640 9 players, 29.0ms\n",
      "video 1/1 (frame 239/375) /kaggle/input/15-sec-input/15sec_input_720p.mp4: 384x640 11 players, 29.1ms\n",
      "video 1/1 (frame 240/375) /kaggle/input/15-sec-input/15sec_input_720p.mp4: 384x640 9 players, 29.1ms\n",
      "video 1/1 (frame 241/375) /kaggle/input/15-sec-input/15sec_input_720p.mp4: 384x640 8 players, 29.1ms\n",
      "video 1/1 (frame 242/375) /kaggle/input/15-sec-input/15sec_input_720p.mp4: 384x640 7 players, 29.0ms\n",
      "video 1/1 (frame 243/375) /kaggle/input/15-sec-input/15sec_input_720p.mp4: 384x640 7 players, 29.0ms\n",
      "video 1/1 (frame 244/375) /kaggle/input/15-sec-input/15sec_input_720p.mp4: 384x640 9 players, 29.0ms\n",
      "video 1/1 (frame 245/375) /kaggle/input/15-sec-input/15sec_input_720p.mp4: 384x640 8 players, 29.0ms\n",
      "video 1/1 (frame 246/375) /kaggle/input/15-sec-input/15sec_input_720p.mp4: 384x640 9 players, 29.0ms\n",
      "video 1/1 (frame 247/375) /kaggle/input/15-sec-input/15sec_input_720p.mp4: 384x640 8 players, 29.0ms\n",
      "video 1/1 (frame 248/375) /kaggle/input/15-sec-input/15sec_input_720p.mp4: 384x640 9 players, 29.0ms\n",
      "video 1/1 (frame 249/375) /kaggle/input/15-sec-input/15sec_input_720p.mp4: 384x640 11 players, 29.0ms\n",
      "video 1/1 (frame 250/375) /kaggle/input/15-sec-input/15sec_input_720p.mp4: 384x640 10 players, 29.0ms\n",
      "video 1/1 (frame 251/375) /kaggle/input/15-sec-input/15sec_input_720p.mp4: 384x640 9 players, 29.1ms\n",
      "video 1/1 (frame 252/375) /kaggle/input/15-sec-input/15sec_input_720p.mp4: 384x640 9 players, 29.1ms\n",
      "video 1/1 (frame 253/375) /kaggle/input/15-sec-input/15sec_input_720p.mp4: 384x640 10 players, 29.1ms\n",
      "video 1/1 (frame 254/375) /kaggle/input/15-sec-input/15sec_input_720p.mp4: 384x640 10 players, 29.0ms\n",
      "video 1/1 (frame 255/375) /kaggle/input/15-sec-input/15sec_input_720p.mp4: 384x640 10 players, 29.1ms\n",
      "video 1/1 (frame 256/375) /kaggle/input/15-sec-input/15sec_input_720p.mp4: 384x640 11 players, 29.0ms\n",
      "video 1/1 (frame 257/375) /kaggle/input/15-sec-input/15sec_input_720p.mp4: 384x640 12 players, 29.0ms\n",
      "video 1/1 (frame 258/375) /kaggle/input/15-sec-input/15sec_input_720p.mp4: 384x640 10 players, 29.0ms\n",
      "video 1/1 (frame 259/375) /kaggle/input/15-sec-input/15sec_input_720p.mp4: 384x640 10 players, 29.0ms\n",
      "video 1/1 (frame 260/375) /kaggle/input/15-sec-input/15sec_input_720p.mp4: 384x640 11 players, 29.1ms\n",
      "video 1/1 (frame 261/375) /kaggle/input/15-sec-input/15sec_input_720p.mp4: 384x640 9 players, 29.0ms\n",
      "video 1/1 (frame 262/375) /kaggle/input/15-sec-input/15sec_input_720p.mp4: 384x640 8 players, 29.0ms\n",
      "video 1/1 (frame 263/375) /kaggle/input/15-sec-input/15sec_input_720p.mp4: 384x640 9 players, 29.0ms\n",
      "video 1/1 (frame 264/375) /kaggle/input/15-sec-input/15sec_input_720p.mp4: 384x640 9 players, 29.1ms\n",
      "video 1/1 (frame 265/375) /kaggle/input/15-sec-input/15sec_input_720p.mp4: 384x640 9 players, 29.1ms\n",
      "video 1/1 (frame 266/375) /kaggle/input/15-sec-input/15sec_input_720p.mp4: 384x640 12 players, 29.1ms\n",
      "video 1/1 (frame 267/375) /kaggle/input/15-sec-input/15sec_input_720p.mp4: 384x640 11 players, 29.1ms\n",
      "video 1/1 (frame 268/375) /kaggle/input/15-sec-input/15sec_input_720p.mp4: 384x640 11 players, 29.0ms\n",
      "video 1/1 (frame 269/375) /kaggle/input/15-sec-input/15sec_input_720p.mp4: 384x640 13 players, 29.1ms\n",
      "video 1/1 (frame 270/375) /kaggle/input/15-sec-input/15sec_input_720p.mp4: 384x640 11 players, 29.1ms\n",
      "video 1/1 (frame 271/375) /kaggle/input/15-sec-input/15sec_input_720p.mp4: 384x640 8 players, 29.1ms\n",
      "video 1/1 (frame 272/375) /kaggle/input/15-sec-input/15sec_input_720p.mp4: 384x640 12 players, 29.1ms\n",
      "video 1/1 (frame 273/375) /kaggle/input/15-sec-input/15sec_input_720p.mp4: 384x640 13 players, 29.0ms\n",
      "video 1/1 (frame 274/375) /kaggle/input/15-sec-input/15sec_input_720p.mp4: 384x640 8 players, 29.0ms\n",
      "video 1/1 (frame 275/375) /kaggle/input/15-sec-input/15sec_input_720p.mp4: 384x640 11 players, 29.0ms\n",
      "video 1/1 (frame 276/375) /kaggle/input/15-sec-input/15sec_input_720p.mp4: 384x640 9 players, 29.1ms\n",
      "video 1/1 (frame 277/375) /kaggle/input/15-sec-input/15sec_input_720p.mp4: 384x640 10 players, 29.1ms\n",
      "video 1/1 (frame 278/375) /kaggle/input/15-sec-input/15sec_input_720p.mp4: 384x640 10 players, 29.0ms\n",
      "video 1/1 (frame 279/375) /kaggle/input/15-sec-input/15sec_input_720p.mp4: 384x640 10 players, 29.0ms\n",
      "video 1/1 (frame 280/375) /kaggle/input/15-sec-input/15sec_input_720p.mp4: 384x640 11 players, 29.0ms\n",
      "video 1/1 (frame 281/375) /kaggle/input/15-sec-input/15sec_input_720p.mp4: 384x640 14 players, 29.0ms\n",
      "video 1/1 (frame 282/375) /kaggle/input/15-sec-input/15sec_input_720p.mp4: 384x640 14 players, 29.0ms\n",
      "video 1/1 (frame 283/375) /kaggle/input/15-sec-input/15sec_input_720p.mp4: 384x640 15 players, 29.0ms\n",
      "video 1/1 (frame 284/375) /kaggle/input/15-sec-input/15sec_input_720p.mp4: 384x640 11 players, 29.0ms\n",
      "video 1/1 (frame 285/375) /kaggle/input/15-sec-input/15sec_input_720p.mp4: 384x640 12 players, 29.0ms\n",
      "video 1/1 (frame 286/375) /kaggle/input/15-sec-input/15sec_input_720p.mp4: 384x640 12 players, 29.0ms\n",
      "video 1/1 (frame 287/375) /kaggle/input/15-sec-input/15sec_input_720p.mp4: 384x640 18 players, 29.0ms\n",
      "video 1/1 (frame 288/375) /kaggle/input/15-sec-input/15sec_input_720p.mp4: 384x640 15 players, 29.1ms\n",
      "video 1/1 (frame 289/375) /kaggle/input/15-sec-input/15sec_input_720p.mp4: 384x640 13 players, 29.0ms\n",
      "video 1/1 (frame 290/375) /kaggle/input/15-sec-input/15sec_input_720p.mp4: 384x640 12 players, 29.1ms\n",
      "video 1/1 (frame 291/375) /kaggle/input/15-sec-input/15sec_input_720p.mp4: 384x640 9 players, 29.0ms\n",
      "video 1/1 (frame 292/375) /kaggle/input/15-sec-input/15sec_input_720p.mp4: 384x640 15 players, 29.0ms\n",
      "video 1/1 (frame 293/375) /kaggle/input/15-sec-input/15sec_input_720p.mp4: 384x640 14 players, 29.0ms\n",
      "video 1/1 (frame 294/375) /kaggle/input/15-sec-input/15sec_input_720p.mp4: 384x640 13 players, 29.0ms\n",
      "video 1/1 (frame 295/375) /kaggle/input/15-sec-input/15sec_input_720p.mp4: 384x640 14 players, 29.1ms\n",
      "video 1/1 (frame 296/375) /kaggle/input/15-sec-input/15sec_input_720p.mp4: 384x640 18 players, 29.1ms\n",
      "video 1/1 (frame 297/375) /kaggle/input/15-sec-input/15sec_input_720p.mp4: 384x640 16 players, 29.0ms\n",
      "video 1/1 (frame 298/375) /kaggle/input/15-sec-input/15sec_input_720p.mp4: 384x640 16 players, 29.0ms\n",
      "video 1/1 (frame 299/375) /kaggle/input/15-sec-input/15sec_input_720p.mp4: 384x640 15 players, 29.0ms\n",
      "video 1/1 (frame 300/375) /kaggle/input/15-sec-input/15sec_input_720p.mp4: 384x640 15 players, 29.0ms\n",
      "video 1/1 (frame 301/375) /kaggle/input/15-sec-input/15sec_input_720p.mp4: 384x640 15 players, 29.1ms\n",
      "video 1/1 (frame 302/375) /kaggle/input/15-sec-input/15sec_input_720p.mp4: 384x640 13 players, 29.0ms\n",
      "video 1/1 (frame 303/375) /kaggle/input/15-sec-input/15sec_input_720p.mp4: 384x640 13 players, 29.0ms\n",
      "video 1/1 (frame 304/375) /kaggle/input/15-sec-input/15sec_input_720p.mp4: 384x640 15 players, 29.0ms\n",
      "video 1/1 (frame 305/375) /kaggle/input/15-sec-input/15sec_input_720p.mp4: 384x640 14 players, 29.1ms\n",
      "video 1/1 (frame 306/375) /kaggle/input/15-sec-input/15sec_input_720p.mp4: 384x640 19 players, 29.0ms\n",
      "video 1/1 (frame 307/375) /kaggle/input/15-sec-input/15sec_input_720p.mp4: 384x640 18 players, 29.1ms\n",
      "video 1/1 (frame 308/375) /kaggle/input/15-sec-input/15sec_input_720p.mp4: 384x640 15 players, 29.0ms\n",
      "video 1/1 (frame 309/375) /kaggle/input/15-sec-input/15sec_input_720p.mp4: 384x640 16 players, 29.0ms\n",
      "video 1/1 (frame 310/375) /kaggle/input/15-sec-input/15sec_input_720p.mp4: 384x640 17 players, 29.0ms\n",
      "video 1/1 (frame 311/375) /kaggle/input/15-sec-input/15sec_input_720p.mp4: 384x640 15 players, 29.1ms\n",
      "video 1/1 (frame 312/375) /kaggle/input/15-sec-input/15sec_input_720p.mp4: 384x640 19 players, 29.0ms\n",
      "video 1/1 (frame 313/375) /kaggle/input/15-sec-input/15sec_input_720p.mp4: 384x640 15 players, 29.1ms\n",
      "video 1/1 (frame 314/375) /kaggle/input/15-sec-input/15sec_input_720p.mp4: 384x640 16 players, 29.0ms\n",
      "video 1/1 (frame 315/375) /kaggle/input/15-sec-input/15sec_input_720p.mp4: 384x640 13 players, 29.0ms\n",
      "video 1/1 (frame 316/375) /kaggle/input/15-sec-input/15sec_input_720p.mp4: 384x640 16 players, 29.0ms\n",
      "video 1/1 (frame 317/375) /kaggle/input/15-sec-input/15sec_input_720p.mp4: 384x640 12 players, 29.0ms\n",
      "video 1/1 (frame 318/375) /kaggle/input/15-sec-input/15sec_input_720p.mp4: 384x640 14 players, 29.0ms\n",
      "video 1/1 (frame 319/375) /kaggle/input/15-sec-input/15sec_input_720p.mp4: 384x640 16 players, 29.0ms\n",
      "video 1/1 (frame 320/375) /kaggle/input/15-sec-input/15sec_input_720p.mp4: 384x640 13 players, 29.1ms\n",
      "video 1/1 (frame 321/375) /kaggle/input/15-sec-input/15sec_input_720p.mp4: 384x640 12 players, 29.1ms\n",
      "video 1/1 (frame 322/375) /kaggle/input/15-sec-input/15sec_input_720p.mp4: 384x640 14 players, 29.1ms\n",
      "video 1/1 (frame 323/375) /kaggle/input/15-sec-input/15sec_input_720p.mp4: 384x640 12 players, 29.1ms\n",
      "video 1/1 (frame 324/375) /kaggle/input/15-sec-input/15sec_input_720p.mp4: 384x640 14 players, 29.0ms\n",
      "video 1/1 (frame 325/375) /kaggle/input/15-sec-input/15sec_input_720p.mp4: 384x640 13 players, 29.1ms\n",
      "video 1/1 (frame 326/375) /kaggle/input/15-sec-input/15sec_input_720p.mp4: 384x640 14 players, 29.0ms\n",
      "video 1/1 (frame 327/375) /kaggle/input/15-sec-input/15sec_input_720p.mp4: 384x640 14 players, 29.0ms\n",
      "video 1/1 (frame 328/375) /kaggle/input/15-sec-input/15sec_input_720p.mp4: 384x640 17 players, 29.0ms\n",
      "video 1/1 (frame 329/375) /kaggle/input/15-sec-input/15sec_input_720p.mp4: 384x640 11 players, 29.0ms\n",
      "video 1/1 (frame 330/375) /kaggle/input/15-sec-input/15sec_input_720p.mp4: 384x640 12 players, 29.0ms\n",
      "video 1/1 (frame 331/375) /kaggle/input/15-sec-input/15sec_input_720p.mp4: 384x640 12 players, 29.0ms\n",
      "video 1/1 (frame 332/375) /kaggle/input/15-sec-input/15sec_input_720p.mp4: 384x640 12 players, 29.0ms\n",
      "video 1/1 (frame 333/375) /kaggle/input/15-sec-input/15sec_input_720p.mp4: 384x640 11 players, 29.0ms\n",
      "video 1/1 (frame 334/375) /kaggle/input/15-sec-input/15sec_input_720p.mp4: 384x640 14 players, 29.1ms\n",
      "video 1/1 (frame 335/375) /kaggle/input/15-sec-input/15sec_input_720p.mp4: 384x640 11 players, 29.0ms\n",
      "video 1/1 (frame 336/375) /kaggle/input/15-sec-input/15sec_input_720p.mp4: 384x640 8 players, 29.1ms\n",
      "video 1/1 (frame 337/375) /kaggle/input/15-sec-input/15sec_input_720p.mp4: 384x640 9 players, 29.0ms\n",
      "video 1/1 (frame 338/375) /kaggle/input/15-sec-input/15sec_input_720p.mp4: 384x640 11 players, 29.1ms\n",
      "video 1/1 (frame 339/375) /kaggle/input/15-sec-input/15sec_input_720p.mp4: 384x640 9 players, 29.0ms\n",
      "video 1/1 (frame 340/375) /kaggle/input/15-sec-input/15sec_input_720p.mp4: 384x640 14 players, 29.0ms\n",
      "video 1/1 (frame 341/375) /kaggle/input/15-sec-input/15sec_input_720p.mp4: 384x640 14 players, 29.0ms\n",
      "video 1/1 (frame 342/375) /kaggle/input/15-sec-input/15sec_input_720p.mp4: 384x640 14 players, 29.0ms\n",
      "video 1/1 (frame 343/375) /kaggle/input/15-sec-input/15sec_input_720p.mp4: 384x640 13 players, 29.0ms\n",
      "video 1/1 (frame 344/375) /kaggle/input/15-sec-input/15sec_input_720p.mp4: 384x640 14 players, 29.1ms\n",
      "video 1/1 (frame 345/375) /kaggle/input/15-sec-input/15sec_input_720p.mp4: 384x640 15 players, 29.1ms\n",
      "video 1/1 (frame 346/375) /kaggle/input/15-sec-input/15sec_input_720p.mp4: 384x640 15 players, 29.0ms\n",
      "video 1/1 (frame 347/375) /kaggle/input/15-sec-input/15sec_input_720p.mp4: 384x640 13 players, 29.1ms\n",
      "video 1/1 (frame 348/375) /kaggle/input/15-sec-input/15sec_input_720p.mp4: 384x640 13 players, 29.0ms\n",
      "video 1/1 (frame 349/375) /kaggle/input/15-sec-input/15sec_input_720p.mp4: 384x640 15 players, 29.2ms\n",
      "video 1/1 (frame 350/375) /kaggle/input/15-sec-input/15sec_input_720p.mp4: 384x640 13 players, 29.2ms\n",
      "video 1/1 (frame 351/375) /kaggle/input/15-sec-input/15sec_input_720p.mp4: 384x640 13 players, 29.2ms\n",
      "video 1/1 (frame 352/375) /kaggle/input/15-sec-input/15sec_input_720p.mp4: 384x640 14 players, 29.0ms\n",
      "video 1/1 (frame 353/375) /kaggle/input/15-sec-input/15sec_input_720p.mp4: 384x640 16 players, 29.1ms\n",
      "video 1/1 (frame 354/375) /kaggle/input/15-sec-input/15sec_input_720p.mp4: 384x640 16 players, 29.1ms\n",
      "video 1/1 (frame 355/375) /kaggle/input/15-sec-input/15sec_input_720p.mp4: 384x640 16 players, 29.1ms\n",
      "video 1/1 (frame 356/375) /kaggle/input/15-sec-input/15sec_input_720p.mp4: 384x640 19 players, 29.0ms\n",
      "video 1/1 (frame 357/375) /kaggle/input/15-sec-input/15sec_input_720p.mp4: 384x640 13 players, 29.0ms\n",
      "video 1/1 (frame 358/375) /kaggle/input/15-sec-input/15sec_input_720p.mp4: 384x640 15 players, 29.0ms\n",
      "video 1/1 (frame 359/375) /kaggle/input/15-sec-input/15sec_input_720p.mp4: 384x640 13 players, 29.1ms\n",
      "video 1/1 (frame 360/375) /kaggle/input/15-sec-input/15sec_input_720p.mp4: 384x640 12 players, 29.1ms\n",
      "video 1/1 (frame 361/375) /kaggle/input/15-sec-input/15sec_input_720p.mp4: 384x640 15 players, 29.0ms\n",
      "video 1/1 (frame 362/375) /kaggle/input/15-sec-input/15sec_input_720p.mp4: 384x640 15 players, 29.1ms\n",
      "video 1/1 (frame 363/375) /kaggle/input/15-sec-input/15sec_input_720p.mp4: 384x640 13 players, 29.0ms\n",
      "video 1/1 (frame 364/375) /kaggle/input/15-sec-input/15sec_input_720p.mp4: 384x640 13 players, 29.1ms\n",
      "video 1/1 (frame 365/375) /kaggle/input/15-sec-input/15sec_input_720p.mp4: 384x640 12 players, 29.1ms\n",
      "video 1/1 (frame 366/375) /kaggle/input/15-sec-input/15sec_input_720p.mp4: 384x640 12 players, 29.0ms\n",
      "video 1/1 (frame 367/375) /kaggle/input/15-sec-input/15sec_input_720p.mp4: 384x640 13 players, 29.1ms\n",
      "video 1/1 (frame 368/375) /kaggle/input/15-sec-input/15sec_input_720p.mp4: 384x640 14 players, 29.1ms\n",
      "video 1/1 (frame 369/375) /kaggle/input/15-sec-input/15sec_input_720p.mp4: 384x640 15 players, 29.0ms\n",
      "video 1/1 (frame 370/375) /kaggle/input/15-sec-input/15sec_input_720p.mp4: 384x640 15 players, 29.0ms\n",
      "video 1/1 (frame 371/375) /kaggle/input/15-sec-input/15sec_input_720p.mp4: 384x640 12 players, 29.0ms\n",
      "video 1/1 (frame 372/375) /kaggle/input/15-sec-input/15sec_input_720p.mp4: 384x640 (no detections), 29.0ms\n",
      "video 1/1 (frame 373/375) /kaggle/input/15-sec-input/15sec_input_720p.mp4: 384x640 1 player, 29.0ms\n",
      "video 1/1 (frame 374/375) /kaggle/input/15-sec-input/15sec_input_720p.mp4: 384x640 1 player, 29.0ms\n",
      "video 1/1 (frame 375/375) /kaggle/input/15-sec-input/15sec_input_720p.mp4: 384x640 1 player, 29.0ms\n",
      "Speed: 1.7ms preprocess, 29.2ms inference, 2.6ms postprocess per image at shape (1, 3, 384, 640)\n"
     ]
    }
   ],
   "source": [
    "results = list(model_yolo(source=video_path, classes=2, save=False))\n",
    "frame_detections = []\n",
    "for r in results:\n",
    "    boxes = r.boxes.xyxy.cpu().numpy()\n",
    "    confs = r.boxes.conf.cpu().numpy()\n",
    "    classes = r.boxes.cls.cpu().numpy()\n",
    "    frame_detections.append({\"boxes\": boxes, \"confidences\": confs, \"classes\": classes})"
   ]
  },
  {
   "cell_type": "markdown",
   "id": "ae85c86f",
   "metadata": {
    "papermill": {
     "duration": 0.036418,
     "end_time": "2025-07-01T14:54:48.094046",
     "exception": false,
     "start_time": "2025-07-01T14:54:48.057628",
     "status": "completed"
    },
    "tags": []
   },
   "source": [
    "## Player Crop Extraction"
   ]
  },
  {
   "cell_type": "code",
   "execution_count": 8,
   "id": "1162ea38",
   "metadata": {
    "execution": {
     "iopub.execute_input": "2025-07-01T14:54:48.168730Z",
     "iopub.status.busy": "2025-07-01T14:54:48.168457Z",
     "iopub.status.idle": "2025-07-01T14:54:48.186831Z",
     "shell.execute_reply": "2025-07-01T14:54:48.186011Z"
    },
    "papermill": {
     "duration": 0.057561,
     "end_time": "2025-07-01T14:54:48.187987",
     "exception": false,
     "start_time": "2025-07-01T14:54:48.130426",
     "status": "completed"
    },
    "tags": []
   },
   "outputs": [
    {
     "name": "stdout",
     "output_type": "stream",
     "text": [
      "[INFO] Total heuristic crops: 3905\n"
     ]
    }
   ],
   "source": [
    "player_crops = []\n",
    "flat_crops = []\n",
    "for frame_idx, det in enumerate(frame_detections):\n",
    "    frame = frames[frame_idx]\n",
    "    boxes = det[\"boxes\"]\n",
    "    crops = []\n",
    "    for box in boxes:\n",
    "        x1, y1, x2, y2 = map(int, box)\n",
    "        crop = frame[y1:y2, x1:x2]\n",
    "        if crop.shape[0] >= 30 and crop.shape[1] >= 30:\n",
    "            crops.append(crop)\n",
    "            flat_crops.append(crop)\n",
    "    player_crops.append(crops)\n",
    "print(f\"[INFO] Total heuristic crops: {len(flat_crops)}\")"
   ]
  },
  {
   "cell_type": "markdown",
   "id": "8f8c4403",
   "metadata": {
    "papermill": {
     "duration": 0.036945,
     "end_time": "2025-07-01T14:54:48.261470",
     "exception": false,
     "start_time": "2025-07-01T14:54:48.224525",
     "status": "completed"
    },
    "tags": []
   },
   "source": [
    "## CLIP-ReID Feature Extraction"
   ]
  },
  {
   "cell_type": "code",
   "execution_count": 9,
   "id": "81df4672",
   "metadata": {
    "execution": {
     "iopub.execute_input": "2025-07-01T14:54:48.340147Z",
     "iopub.status.busy": "2025-07-01T14:54:48.339571Z",
     "iopub.status.idle": "2025-07-01T14:55:14.491076Z",
     "shell.execute_reply": "2025-07-01T14:55:14.490219Z"
    },
    "papermill": {
     "duration": 26.191021,
     "end_time": "2025-07-01T14:55:14.492361",
     "exception": false,
     "start_time": "2025-07-01T14:54:48.301340",
     "status": "completed"
    },
    "tags": []
   },
   "outputs": [
    {
     "name": "stdout",
     "output_type": "stream",
     "text": [
      "[RESULT] Final embeddings shape: torch.Size([3905, 768])\n"
     ]
    }
   ],
   "source": [
    "crop_tensors = []\n",
    "for crop in flat_crops:\n",
    "    crop_resized = cv2.resize(crop, (224, 224))\n",
    "    transformed = val_transforms(image=crop_resized)['image']\n",
    "    crop_tensors.append(transformed)\n",
    "\n",
    "final_embeddings = []\n",
    "batch_size = 32\n",
    "for i in range(0, len(crop_tensors), batch_size):\n",
    "    batch = torch.stack(crop_tensors[i:i+batch_size]).to(device)\n",
    "    with torch.no_grad():\n",
    "        emb = model_clip(batch)\n",
    "    final_embeddings.append(emb.cpu())\n",
    "final_embeddings = torch.cat(final_embeddings, dim=0)\n",
    "print(f\"[RESULT] Final embeddings shape: {final_embeddings.shape}\")"
   ]
  },
  {
   "cell_type": "markdown",
   "id": "3a6c2ed8",
   "metadata": {
    "papermill": {
     "duration": 0.039477,
     "end_time": "2025-07-01T14:55:14.570538",
     "exception": false,
     "start_time": "2025-07-01T14:55:14.531061",
     "status": "completed"
    },
    "tags": []
   },
   "source": [
    "## Green Suppression and Jersey Clustering"
   ]
  },
  {
   "cell_type": "code",
   "execution_count": 10,
   "id": "ebf73308",
   "metadata": {
    "execution": {
     "iopub.execute_input": "2025-07-01T14:55:14.645169Z",
     "iopub.status.busy": "2025-07-01T14:55:14.644914Z",
     "iopub.status.idle": "2025-07-01T14:55:20.185460Z",
     "shell.execute_reply": "2025-07-01T14:55:20.184470Z"
    },
    "papermill": {
     "duration": 5.579496,
     "end_time": "2025-07-01T14:55:20.186991",
     "exception": false,
     "start_time": "2025-07-01T14:55:14.607495",
     "status": "completed"
    },
    "tags": []
   },
   "outputs": [
    {
     "name": "stdout",
     "output_type": "stream",
     "text": [
      "[INFO] Final usable embeddings: 3905\n",
      "[INFO] Team label distribution: {0: 876, 1: 889, 2: 1313, 3: 827}\n"
     ]
    },
    {
     "name": "stderr",
     "output_type": "stream",
     "text": [
      "/usr/local/lib/python3.11/dist-packages/sklearn/cluster/_kmeans.py:870: FutureWarning: The default value of `n_init` will change from 10 to 'auto' in 1.4. Set the value of `n_init` explicitly to suppress the warning\n",
      "  warnings.warn(\n"
     ]
    }
   ],
   "source": [
    "def is_green(rgb):\n",
    "    r, g, b = rgb\n",
    "    return (g > 90) and (g > r + 30) and (g > b + 30)\n",
    "\n",
    "dominant_colors = []\n",
    "for crop in flat_crops:\n",
    "    small = cv2.resize(crop, (50, 50))\n",
    "    pixels = small.reshape((-1, 3))\n",
    "    kmeans = KMeans(n_clusters=1, n_init='auto', random_state=42).fit(pixels)\n",
    "    dom_color = kmeans.cluster_centers_[0]\n",
    "    dominant_colors.append(dom_color[::-1])  # BGR → RGB\n",
    "dominant_colors = np.array(dominant_colors)\n",
    "\n",
    "k = 4\n",
    "kmeans_jersey = KMeans(n_clusters=k, random_state=42).fit(dominant_colors)\n",
    "team_labels_raw = kmeans_jersey.labels_\n",
    "team_centroids = kmeans_jersey.cluster_centers_\n",
    "\n",
    "suppress_green = False\n",
    "green_cluster_indices = []\n",
    "green_cluster_ids = []\n",
    "\n",
    "for i, centroid in enumerate(team_centroids):\n",
    "    if is_green(centroid):\n",
    "        cluster_indices = np.where(team_labels_raw == i)[0]\n",
    "        green_cluster_indices.extend(cluster_indices)\n",
    "        green_cluster_ids.append(i)\n",
    "\n",
    "if green_cluster_indices:\n",
    "    green_embeddings = final_embeddings[green_cluster_indices]\n",
    "    green_var = green_embeddings.std().item()\n",
    "    print(f\"[GREEN] Found green cluster(s): {green_cluster_ids}, Var = {green_var:.4f}, Count = {len(green_cluster_indices)}\")\n",
    "    if len(green_cluster_indices) < 60 or green_var > 0.25:\n",
    "        suppress_green = True\n",
    "        print(\"[ACTION] Suppressing green cluster(s).\")\n",
    "\n",
    "mask = np.ones(len(flat_crops), dtype=bool)\n",
    "if suppress_green:\n",
    "    mask[green_cluster_indices] = False\n",
    "\n",
    "filtered_embeddings = final_embeddings[mask]\n",
    "filtered_labels_raw = team_labels_raw[mask]\n",
    "unique_clusters = sorted(set(filtered_labels_raw))\n",
    "team_label_map = {old: new for new, old in enumerate(unique_clusters)}\n",
    "filtered_labels = [team_label_map[label] for label in filtered_labels_raw]\n",
    "\n",
    "print(f\"[INFO] Final usable embeddings: {len(filtered_embeddings)}\")\n",
    "print(f\"[INFO] Team label distribution: {dict(zip(*np.unique(filtered_labels, return_counts=True)))}\")\n"
   ]
  },
  {
   "cell_type": "markdown",
   "id": "dbaa984e",
   "metadata": {
    "papermill": {
     "duration": 0.037159,
     "end_time": "2025-07-01T14:55:20.262339",
     "exception": false,
     "start_time": "2025-07-01T14:55:20.225180",
     "status": "completed"
    },
    "tags": []
   },
   "source": [
    "##  PCA Visualization"
   ]
  },
  {
   "cell_type": "code",
   "execution_count": 11,
   "id": "6785c756",
   "metadata": {
    "execution": {
     "iopub.execute_input": "2025-07-01T14:55:20.338219Z",
     "iopub.status.busy": "2025-07-01T14:55:20.337934Z",
     "iopub.status.idle": "2025-07-01T14:55:20.754159Z",
     "shell.execute_reply": "2025-07-01T14:55:20.753474Z"
    },
    "papermill": {
     "duration": 0.459324,
     "end_time": "2025-07-01T14:55:20.758442",
     "exception": false,
     "start_time": "2025-07-01T14:55:20.299118",
     "status": "completed"
    },
    "tags": []
   },
   "outputs": [
    {
     "data": {
      "image/png": "[encoded data removed]",
      "text/plain": [
       "<Figure size 1000x600 with 1 Axes>"
      ]
     },
     "metadata": {},
     "output_type": "display_data"
    }
   ],
   "source": [
    "pca = PCA(n_components=2)\n",
    "pca_result = pca.fit_transform(filtered_embeddings.numpy())\n",
    "plt.figure(figsize=(10, 6))\n",
    "for team_id in np.unique(filtered_labels):\n",
    "    mask = (np.array(filtered_labels) == team_id)\n",
    "    plt.scatter(\n",
    "        pca_result[mask, 0], pca_result[mask, 1],\n",
    "        label=f\"Team {team_id}\", s=40, alpha=0.6\n",
    "    )\n",
    "plt.legend()\n",
    "plt.title(\"PCA of CLIP Embeddings (Conditional Green Suppression)\")\n",
    "plt.xlabel(\"PC1\")\n",
    "plt.ylabel(\"PC2\")\n",
    "plt.grid(True)\n",
    "plt.show()"
   ]
  },
  {
   "cell_type": "markdown",
   "id": "8a14e031",
   "metadata": {
    "papermill": {
     "duration": 0.040491,
     "end_time": "2025-07-01T14:55:20.839998",
     "exception": false,
     "start_time": "2025-07-01T14:55:20.799507",
     "status": "completed"
    },
    "tags": []
   },
   "source": [
    "## AURA Identity Assignment"
   ]
  },
  {
   "cell_type": "code",
   "execution_count": 12,
   "id": "8004476a",
   "metadata": {
    "execution": {
     "iopub.execute_input": "2025-07-01T14:55:20.921498Z",
     "iopub.status.busy": "2025-07-01T14:55:20.921149Z",
     "iopub.status.idle": "2025-07-01T14:55:50.877654Z",
     "shell.execute_reply": "2025-07-01T14:55:50.876487Z"
    },
    "papermill": {
     "duration": 29.999201,
     "end_time": "2025-07-01T14:55:50.879054",
     "exception": false,
     "start_time": "2025-07-01T14:55:20.879853",
     "status": "completed"
    },
    "tags": []
   },
   "outputs": [
    {
     "name": "stdout",
     "output_type": "stream",
     "text": [
      "[INFO] AURA ID assignment complete. Unique IDs assigned: 68\n"
     ]
    }
   ],
   "source": [
    "\n",
    "memory_bank = {}\n",
    "frame_id_assignments = []\n",
    "id_counter = 0\n",
    "threshold = 0.85\n",
    "window_size = 50\n",
    "\n",
    "def compute_iou(box1, box2):\n",
    "    xA = max(box1[0], box2[0])\n",
    "    yA = max(box1[1], box2[1])\n",
    "    xB = min(box1[2], box2[2])\n",
    "    yB = min(box1[3], box2[3])\n",
    "    interArea = max(0, xB - xA) * max(0, yB - yA)\n",
    "    boxAArea = (box1[2] - box1[0]) * (box1[3] - box1[1])\n",
    "    boxBArea = (box2[2] - box2[0]) * (box2[3] - box2[1])\n",
    "    iou = interArea / float(boxAArea + boxBArea - interArea + 1e-6)\n",
    "    return iou\n",
    "\n",
    "for start in range(0, len(player_crops), window_size):\n",
    "    end = min(start + window_size, len(player_crops))\n",
    "    for local_frame_idx in range(start, end):\n",
    "        frame = local_frame_idx\n",
    "        crops = player_crops[frame]\n",
    "\n",
    "        if len(crops) == 0:\n",
    "            frame_id_assignments.append([])\n",
    "            continue\n",
    "\n",
    "        boxes_all = frame_detections[frame]['boxes']\n",
    "        valid_boxes = []\n",
    "        crop_to_box_map = []\n",
    "        for i, box in enumerate(boxes_all):\n",
    "            x1, y1, x2, y2 = map(int, box)\n",
    "            if (x2 - x1) >= 30 and (y2 - y1) >= 30:\n",
    "                valid_boxes.append(box)\n",
    "                crop_to_box_map.append(i)\n",
    "\n",
    "        crop_tensors = []\n",
    "        for crop in crops:\n",
    "            resized = cv2.resize(crop, (224, 224))\n",
    "            transformed = val_transforms(image=resized)['image']\n",
    "            crop_tensors.append(transformed)\n",
    "\n",
    "        batch = torch.stack(crop_tensors).to(device)\n",
    "        with torch.no_grad():\n",
    "            frame_embeddings = model_clip(batch).cpu()\n",
    "\n",
    "        start_idx = sum(len(pc) for pc in player_crops[:frame])\n",
    "        team_labels_this_frame = filtered_labels[start_idx:start_idx + len(crops)]\n",
    "\n",
    "        overlap_groups = []\n",
    "        used = set()\n",
    "        for i in range(len(valid_boxes)):\n",
    "            if i in used:\n",
    "                continue\n",
    "            group = [i]\n",
    "            for j in range(i+1, len(valid_boxes)):\n",
    "                if compute_iou(valid_boxes[i], valid_boxes[j]) > 0.5:\n",
    "                    group.append(j)\n",
    "                    used.add(j)\n",
    "            used.update(group)\n",
    "            overlap_groups.append(group)\n",
    "\n",
    "        id_assignments_this_frame = [None] * len(crops)\n",
    "\n",
    "        for group in overlap_groups:\n",
    "            best_vis = -1\n",
    "            anchor_crop_idx = None\n",
    "            anchor_id = None\n",
    "            anchor_team = None\n",
    "\n",
    "            for box_idx in group:\n",
    "                if box_idx not in crop_to_box_map:\n",
    "                    continue\n",
    "                crop_idx = crop_to_box_map.index(box_idx)\n",
    "                emb = frame_embeddings[crop_idx].unsqueeze(0).numpy()\n",
    "                team_label = team_labels_this_frame[crop_idx]\n",
    "\n",
    "                best_id, best_sim = None, -1\n",
    "                for pid, entry in memory_bank.items():\n",
    "                    if entry['team'] != team_label:\n",
    "                        continue\n",
    "                    sim = cosine_similarity(emb, entry['embedding'])[0][0]\n",
    "                    if sim > best_sim:\n",
    "                        best_sim = sim\n",
    "                        best_id = pid\n",
    "\n",
    "                if best_sim >= threshold:\n",
    "                    vis = memory_bank[best_id]['visibility']\n",
    "                    if vis > best_vis:\n",
    "                        best_vis = vis\n",
    "                        anchor_crop_idx = crop_idx\n",
    "                        anchor_id = best_id\n",
    "                        anchor_team = team_label\n",
    "\n",
    "            for box_idx in group:\n",
    "                if box_idx not in crop_to_box_map:\n",
    "                    continue\n",
    "                crop_idx = crop_to_box_map.index(box_idx)\n",
    "                emb = frame_embeddings[crop_idx].unsqueeze(0).numpy()\n",
    "                team_label = team_labels_this_frame[crop_idx]\n",
    "\n",
    "                if anchor_id is not None and crop_idx == anchor_crop_idx:\n",
    "                    assigned_id = anchor_id\n",
    "                    memory_bank[assigned_id]['embedding'] = (\n",
    "                        0.8 * memory_bank[assigned_id]['embedding'] + 0.2 * emb\n",
    "                    )\n",
    "                    memory_bank[assigned_id]['last_seen'] = frame\n",
    "                    memory_bank[assigned_id]['visibility'] += 1\n",
    "                elif anchor_id is not None:\n",
    "                    sim_to_anchor = cosine_similarity(emb, memory_bank[anchor_id]['embedding'])[0][0]\n",
    "                    if team_label == anchor_team and sim_to_anchor >= threshold:\n",
    "                        assigned_id = anchor_id\n",
    "                        memory_bank[assigned_id]['embedding'] = (\n",
    "                            0.8 * memory_bank[assigned_id]['embedding'] + 0.2 * emb\n",
    "                        )\n",
    "                        memory_bank[assigned_id]['last_seen'] = frame\n",
    "                        memory_bank[assigned_id]['visibility'] += 1\n",
    "                    else:\n",
    "                        assigned_id = id_counter\n",
    "                        memory_bank[assigned_id] = {\n",
    "                            'embedding': emb,\n",
    "                            'team': team_label,\n",
    "                            'last_seen': frame,\n",
    "                            'visibility': 1\n",
    "                        }\n",
    "                        id_counter += 1\n",
    "                else:\n",
    "                    assigned_id = id_counter\n",
    "                    memory_bank[assigned_id] = {\n",
    "                        'embedding': emb,\n",
    "                        'team': team_label,\n",
    "                        'last_seen': frame,\n",
    "                        'visibility': 1\n",
    "                    }\n",
    "                    id_counter += 1\n",
    "\n",
    "                id_assignments_this_frame[crop_idx] = assigned_id\n",
    "\n",
    "        frame_id_assignments.append(id_assignments_this_frame)\n",
    "\n",
    "print(f\"[INFO] AURA ID assignment complete. Unique IDs assigned: {id_counter}\")"
   ]
  },
  {
   "cell_type": "markdown",
   "id": "8850da3a",
   "metadata": {
    "papermill": {
     "duration": 0.039763,
     "end_time": "2025-07-01T14:55:50.959408",
     "exception": false,
     "start_time": "2025-07-01T14:55:50.919645",
     "status": "completed"
    },
    "tags": []
   },
   "source": [
    "## Display Output Video"
   ]
  },
  {
   "cell_type": "code",
   "execution_count": 13,
   "id": "40927f32",
   "metadata": {
    "execution": {
     "iopub.execute_input": "2025-07-01T14:55:51.040787Z",
     "iopub.status.busy": "2025-07-01T14:55:51.040060Z",
     "iopub.status.idle": "2025-07-01T14:55:54.087619Z",
     "shell.execute_reply": "2025-07-01T14:55:54.086762Z"
    },
    "papermill": {
     "duration": 3.089349,
     "end_time": "2025-07-01T14:55:54.088777",
     "exception": false,
     "start_time": "2025-07-01T14:55:50.999428",
     "status": "completed"
    },
    "tags": []
   },
   "outputs": [
    {
     "name": "stderr",
     "output_type": "stream",
     "text": [
      "Rendering Video: 100%|██████████| 375/375 [00:03<00:00, 123.78it/s]"
     ]
    },
    {
     "name": "stdout",
     "output_type": "stream",
     "text": [
      "[INFO] Video with ID overlays saved to: /kaggle/working/overlay_ids_output.mp4\n"
     ]
    },
    {
     "name": "stderr",
     "output_type": "stream",
     "text": [
      "\n"
     ]
    }
   ],
   "source": [
    "TEAM_COLORS = [\n",
    "    (255, 0, 0), (255, 165, 0), (0, 255, 0), (0, 0, 255),\n",
    "    (255, 255, 0), (255, 0, 255), (0, 255, 255), (100, 100, 255),\n",
    "    (255, 100, 100), (100, 255, 100)\n",
    "]\n",
    "\n",
    "output_vis_path = \"/kaggle/working/overlay_ids_output.mp4\"\n",
    "fourcc = cv2.VideoWriter_fourcc(*'mp4v')\n",
    "out_vis = cv2.VideoWriter(output_vis_path, fourcc, fps, (width, height))\n",
    "\n",
    "for frame_idx in tqdm(range(len(frames)), desc=\"Rendering Video\"):\n",
    "    frame = frames[frame_idx].copy()\n",
    "    crops = player_crops[frame_idx]\n",
    "    boxes = frame_detections[frame_idx]['boxes']\n",
    "    id_list = frame_id_assignments[frame_idx] if frame_idx < len(frame_id_assignments) else []\n",
    "\n",
    "    if not crops or not id_list:\n",
    "        out_vis.write(frame)\n",
    "        continue\n",
    "\n",
    "    valid_box_idx = 0\n",
    "    for i, box in enumerate(boxes):\n",
    "        x1, y1, x2, y2 = map(int, box)\n",
    "        w, h = x2 - x1, y2 - y1\n",
    "        if w < 30 or h < 30:\n",
    "            continue\n",
    "\n",
    "        if valid_box_idx >= len(id_list):\n",
    "            break\n",
    "\n",
    "        player_id = id_list[valid_box_idx]\n",
    "        start_idx = sum(len(p) for p in player_crops[:frame_idx])\n",
    "        team_label = filtered_labels[start_idx + valid_box_idx] if (start_idx + valid_box_idx) < len(filtered_labels) else -1\n",
    "        color = TEAM_COLORS[team_label % len(TEAM_COLORS)]\n",
    "\n",
    "        label = f\"ID:{player_id} | Team:{team_label} | Frame:{frame_idx}\"\n",
    "        cv2.rectangle(frame, (x1, y1), (x2, y2), color, 2)\n",
    "        cv2.putText(frame, label, (x1, y1 - 10),\n",
    "                    cv2.FONT_HERSHEY_SIMPLEX, 0.5, color, 1, cv2.LINE_AA)\n",
    "\n",
    "        valid_box_idx += 1\n",
    "\n",
    "    out_vis.write(frame)\n",
    "\n",
    "out_vis.release()\n",
    "print(f\"[INFO] Video with ID overlays saved to: {output_vis_path}\")\n"
   ]
  }
 ],
 "metadata": {
  "kaggle": {
   "accelerator": "gpu",
   "dataSources": [
    {
     "datasetId": 7723817,
     "sourceId": 12257489,
     "sourceType": "datasetVersion"
    },
    {
     "datasetId": 7747210,
     "sourceId": 12292064,
     "sourceType": "datasetVersion"
    },
    {
     "datasetId": 7747246,
     "sourceId": 12292124,
     "sourceType": "datasetVersion"
    },
    {
     "isSourceIdPinned": true,
     "modelId": 383575,
     "modelInstanceId": 362658,
     "sourceId": 446576,
     "sourceType": "modelInstanceVersion"
    }
   ],
   "dockerImageVersionId": 31041,
   "isGpuEnabled": true,
   "isInternetEnabled": true,
   "language": "python",
   "sourceType": "notebook"
  },
  "kernelspec": {
   "display_name": "Python 3",
   "language": "python",
   "name": "python3"
  },
  "language_info": {
   "codemirror_mode": {
    "name": "ipython",
    "version": 3
   },
   "file_extension": ".py",
   "mimetype": "text/x-python",
   "name": "python",
   "nbconvert_exporter": "python",
   "pygments_lexer": "ipython3",
   "version": "3.11.11"
  },
  "papermill": {
   "default_parameters": {},
   "duration": 195.376157,
   "end_time": "2025-07-01T14:55:57.615820",
   "environment_variables": {},
   "exception": null,
   "input_path": "__notebook__.ipynb",
   "output_path": "__notebook__.ipynb",
   "parameters": {},
   "start_time": "2025-07-01T14:52:42.239663",
   "version": "2.6.0"
  },
  "widgets": {
   "application/vnd.jupyter.widget-state+json": {
    "state": {
     "11b8dcf161394f8e9610ab7da784560c": {
      "model_module": "@jupyter-widgets/controls",
      "model_module_version": "2.0.0",
      "model_name": "ProgressStyleModel",
      "state": {
       "_model_module": "@jupyter-widgets/controls",
       "_model_module_version": "2.0.0",
       "_model_name": "ProgressStyleModel",
       "_view_count": null,
       "_view_module": "@jupyter-widgets/base",
       "_view_module_version": "2.0.0",
       "_view_name": "StyleView",
       "bar_color": null,
       "description_width": ""
      }
     },
     "1dcafbe45b004f1cb1c23c6709eefa3e": {
      "model_module": "@jupyter-widgets/base",
      "model_module_version": "2.0.0",
      "model_name": "LayoutModel",
      "state": {
       "_model_module": "@jupyter-widgets/base",
       "_model_module_version": "2.0.0",
       "_model_name": "LayoutModel",
       "_view_count": null,
       "_view_module": "@jupyter-widgets/base",
       "_view_module_version": "2.0.0",
       "_view_name": "LayoutView",
       "align_content": null,
       "align_items": null,
       "align_self": null,
       "border_bottom": null,
       "border_left": null,
       "border_right": null,
       "border_top": null,
       "bottom": null,
       "display": null,
       "flex": null,
       "flex_flow": null,
       "grid_area": null,
       "grid_auto_columns": null,
       "grid_auto_flow": null,
       "grid_auto_rows": null,
       "grid_column": null,
       "grid_gap": null,
       "grid_row": null,
       "grid_template_areas": null,
       "grid_template_columns": null,
       "grid_template_rows": null,
       "height": null,
       "justify_content": null,
       "justify_items": null,
       "left": null,
       "margin": null,
       "max_height": null,
       "max_width": null,
       "min_height": null,
       "min_width": null,
       "object_fit": null,
       "object_position": null,
       "order": null,
       "overflow": null,
       "padding": null,
       "right": null,
       "top": null,
       "visibility": null,
       "width": null
      }
     },
     "1f97b031a3874458bc29b7bc135ccbef": {
      "model_module": "@jupyter-widgets/controls",
      "model_module_version": "2.0.0",
      "model_name": "FloatProgressModel",
      "state": {
       "_dom_classes": [],
       "_model_module": "@jupyter-widgets/controls",
       "_model_module_version": "2.0.0",
       "_model_name": "FloatProgressModel",
       "_view_count": null,
       "_view_module": "@jupyter-widgets/controls",
       "_view_module_version": "2.0.0",
       "_view_name": "ProgressView",
       "bar_style": "success",
       "description": "",
       "description_allow_html": false,
       "layout": "IPY_MODEL_d6b6e7765adf4c3083a20ea6cef817d9",
       "max": 598516980.0,
       "min": 0.0,
       "orientation": "horizontal",
       "style": "IPY_MODEL_11b8dcf161394f8e9610ab7da784560c",
       "tabbable": null,
       "tooltip": null,
       "value": 598516980.0
      }
     },
     "2ed2f22d6ed24507850e1cd6300cf1ad": {
      "model_module": "@jupyter-widgets/controls",
      "model_module_version": "2.0.0",
      "model_name": "HTMLStyleModel",
      "state": {
       "_model_module": "@jupyter-widgets/controls",
       "_model_module_version": "2.0.0",
       "_model_name": "HTMLStyleModel",
       "_view_count": null,
       "_view_module": "@jupyter-widgets/base",
       "_view_module_version": "2.0.0",
       "_view_name": "StyleView",
       "background": null,
       "description_width": "",
       "font_size": null,
       "text_color": null
      }
     },
     "62c3a5ff628c4430954ea3762910a283": {
      "model_module": "@jupyter-widgets/base",
      "model_module_version": "2.0.0",
      "model_name": "LayoutModel",
      "state": {
       "_model_module": "@jupyter-widgets/base",
       "_model_module_version": "2.0.0",
       "_model_name": "LayoutModel",
       "_view_count": null,
       "_view_module": "@jupyter-widgets/base",
       "_view_module_version": "2.0.0",
       "_view_name": "LayoutView",
       "align_content": null,
       "align_items": null,
       "align_self": null,
       "border_bottom": null,
       "border_left": null,
       "border_right": null,
       "border_top": null,
       "bottom": null,
       "display": null,
       "flex": null,
       "flex_flow": null,
       "grid_area": null,
       "grid_auto_columns": null,
       "grid_auto_flow": null,
       "grid_auto_rows": null,
       "grid_column": null,
       "grid_gap": null,
       "grid_row": null,
       "grid_template_areas": null,
       "grid_template_columns": null,
       "grid_template_rows": null,
       "height": null,
       "justify_content": null,
       "justify_items": null,
       "left": null,
       "margin": null,
       "max_height": null,
       "max_width": null,
       "min_height": null,
       "min_width": null,
       "object_fit": null,
       "object_position": null,
       "order": null,
       "overflow": null,
       "padding": null,
       "right": null,
       "top": null,
       "visibility": null,
       "width": null
      }
     },
     "8829a7fc6d4841d39598d7ccd93d3f93": {
      "model_module": "@jupyter-widgets/controls",
      "model_module_version": "2.0.0",
      "model_name": "HTMLModel",
      "state": {
       "_dom_classes": [],
       "_model_module": "@jupyter-widgets/controls",
       "_model_module_version": "2.0.0",
       "_model_name": "HTMLModel",
       "_view_count": null,
       "_view_module": "@jupyter-widgets/controls",
       "_view_module_version": "2.0.0",
       "_view_name": "HTMLView",
       "description": "",
       "description_allow_html": false,
       "layout": "IPY_MODEL_62c3a5ff628c4430954ea3762910a283",
       "placeholder": "​",
       "style": "IPY_MODEL_2ed2f22d6ed24507850e1cd6300cf1ad",
       "tabbable": null,
       "tooltip": null,
       "value": " 599M/599M [00:02&lt;00:00, 315MB/s]"
      }
     },
     "c9b57c0a47d14ccab5084cca76b7fdec": {
      "model_module": "@jupyter-widgets/base",
      "model_module_version": "2.0.0",
      "model_name": "LayoutModel",
      "state": {
       "_model_module": "@jupyter-widgets/base",
       "_model_module_version": "2.0.0",
       "_model_name": "LayoutModel",
       "_view_count": null,
       "_view_module": "@jupyter-widgets/base",
       "_view_module_version": "2.0.0",
       "_view_name": "LayoutView",
       "align_content": null,
       "align_items": null,
       "align_self": null,
       "border_bottom": null,
       "border_left": null,
       "border_right": null,
       "border_top": null,
       "bottom": null,
       "display": null,
       "flex": null,
       "flex_flow": null,
       "grid_area": null,
       "grid_auto_columns": null,
       "grid_auto_flow": null,
       "grid_auto_rows": null,
       "grid_column": null,
       "grid_gap": null,
       "grid_row": null,
       "grid_template_areas": null,
       "grid_template_columns": null,
       "grid_template_rows": null,
       "height": null,
       "justify_content": null,
       "justify_items": null,
       "left": null,
       "margin": null,
       "max_height": null,
       "max_width": null,
       "min_height": null,
       "min_width": null,
       "object_fit": null,
       "object_position": null,
       "order": null,
       "overflow": null,
       "padding": null,
       "right": null,
       "top": null,
       "visibility": null,
       "width": null
      }
     },
     "d6b6e7765adf4c3083a20ea6cef817d9": {
      "model_module": "@jupyter-widgets/base",
      "model_module_version": "2.0.0",
      "model_name": "LayoutModel",
      "state": {
       "_model_module": "@jupyter-widgets/base",
       "_model_module_version": "2.0.0",
       "_model_name": "LayoutModel",
       "_view_count": null,
       "_view_module": "@jupyter-widgets/base",
       "_view_module_version": "2.0.0",
       "_view_name": "LayoutView",
       "align_content": null,
       "align_items": null,
       "align_self": null,
       "border_bottom": null,
       "border_left": null,
       "border_right": null,
       "border_top": null,
       "bottom": null,
       "display": null,
       "flex": null,
       "flex_flow": null,
       "grid_area": null,
       "grid_auto_columns": null,
       "grid_auto_flow": null,
       "grid_auto_rows": null,
       "grid_column": null,
       "grid_gap": null,
       "grid_row": null,
       "grid_template_areas": null,
       "grid_template_columns": null,
       "grid_template_rows": null,
       "height": null,
       "justify_content": null,
       "justify_items": null,
       "left": null,
       "margin": null,
       "max_height": null,
       "max_width": null,
       "min_height": null,
       "min_width": null,
       "object_fit": null,
       "object_position": null,
       "order": null,
       "overflow": null,
       "padding": null,
       "right": null,
       "top": null,
       "visibility": null,
       "width": null
      }
     },
     "e28a8b6bf11b4ea69b32887d1581c48e": {
      "model_module": "@jupyter-widgets/controls",
      "model_module_version": "2.0.0",
      "model_name": "HTMLModel",
      "state": {
       "_dom_classes": [],
       "_model_module": "@jupyter-widgets/controls",
       "_model_module_version": "2.0.0",
       "_model_name": "HTMLModel",
       "_view_count": null,
       "_view_module": "@jupyter-widgets/controls",
       "_view_module_version": "2.0.0",
       "_view_name": "HTMLView",
       "description": "",
       "description_allow_html": false,
       "layout": "IPY_MODEL_c9b57c0a47d14ccab5084cca76b7fdec",
       "placeholder": "​",
       "style": "IPY_MODEL_e8ff7d11b05c4d1d98e4c8d314641a51",
       "tabbable": null,
       "tooltip": null,
       "value": "open_clip_model.safetensors: 100%"
      }
     },
     "e7a02bc65cca452480717ea5596880bb": {
      "model_module": "@jupyter-widgets/controls",
      "model_module_version": "2.0.0",
      "model_name": "HBoxModel",
      "state": {
       "_dom_classes": [],
       "_model_module": "@jupyter-widgets/controls",
       "_model_module_version": "2.0.0",
       "_model_name": "HBoxModel",
       "_view_count": null,
       "_view_module": "@jupyter-widgets/controls",
       "_view_module_version": "2.0.0",
       "_view_name": "HBoxView",
       "box_style": "",
       "children": [
        "IPY_MODEL_e28a8b6bf11b4ea69b32887d1581c48e",
        "IPY_MODEL_1f97b031a3874458bc29b7bc135ccbef",
        "IPY_MODEL_8829a7fc6d4841d39598d7ccd93d3f93"
       ],
       "layout": "IPY_MODEL_1dcafbe45b004f1cb1c23c6709eefa3e",
       "tabbable": null,
       "tooltip": null
      }
     },
     "e8ff7d11b05c4d1d98e4c8d314641a51": {
      "model_module": "@jupyter-widgets/controls",
      "model_module_version": "2.0.0",
      "model_name": "HTMLStyleModel",
      "state": {
       "_model_module": "@jupyter-widgets/controls",
       "_model_module_version": "2.0.0",
       "_model_name": "HTMLStyleModel",
       "_view_count": null,
       "_view_module": "@jupyter-widgets/base",
       "_view_module_version": "2.0.0",
       "_view_name": "StyleView",
       "background": null,
       "description_width": "",
       "font_size": null,
       "text_color": null
      }
     }
    },
    "version_major": 2,
    "version_minor": 0
   }
  }
 },
 "nbformat": 4,
 "nbformat_minor": 5
}
